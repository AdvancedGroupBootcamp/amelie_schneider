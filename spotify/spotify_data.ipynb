{
 "cells": [
  {
   "cell_type": "code",
   "execution_count": 4,
   "metadata": {},
   "outputs": [],
   "source": [
    "import json"
   ]
  },
  {
   "cell_type": "markdown",
   "metadata": {},
   "source": [
    "Function for converting milliseconds to seconds, minutes and hours"
   ]
  },
  {
   "cell_type": "code",
   "execution_count": 39,
   "metadata": {},
   "outputs": [],
   "source": [
    "def convertMillis(millis):\n",
    "    rest = millis%(1000*60*60)\n",
    "    hours = int((millis-rest)/(1000*60*60))\n",
    "    millis = rest\n",
    "    rest = millis%(1000*60)\n",
    "    minutes = int((millis-rest)/(1000*60))\n",
    "    millis = rest\n",
    "    rest = millis%(1000)\n",
    "    seconds = int((millis-rest)/(1000))\n",
    "    millis = rest\n",
    "\n",
    "    return \"\"\"{0}:{1}:{2}:{3}\"\"\".format(hours, minutes, seconds, millis)"
   ]
  },
  {
   "cell_type": "markdown",
   "metadata": {},
   "source": [
    "Load the data"
   ]
  },
  {
   "cell_type": "code",
   "execution_count": 6,
   "metadata": {},
   "outputs": [],
   "source": [
    "file = open('mpd.slice.0-999.json')\n",
    "data = json.load(file)\n",
    "playlists = data['playlists']\n"
   ]
  },
  {
   "cell_type": "markdown",
   "metadata": {},
   "source": [
    "Create the dict of the artists and their respective uids, as well as create empty dicts for the result values"
   ]
  },
  {
   "cell_type": "code",
   "execution_count": 7,
   "metadata": {},
   "outputs": [],
   "source": [
    "\n",
    "artists = {\n",
    "    'Zaz': 'spotify:artist:1mbgj8ERPs8lWi7t5cYrdy',\n",
    "    'Oumou Sangaré': 'spotify:artist:65CKKZilbcSKkAPC9a5Mvh',\n",
    "    'Kendrick Lamar': 'spotify:artist:2YZyLoL8N0Wb9xBt1NhZWg',\n",
    "    'P!nk': 'spotify:artist:1KCSPY1glIKqW2TotWuXOR',\n",
    "    'Muse': 'spotify:artist:12Chz98pHFMPJEknJQMWvI',\n",
    "    'The Killers': 'spotify:artist:0C0XlULifJtAgn6ZNCW2eu',\n",
    "    'Eminem': 'spotify:artist:7dGJo4pcD2V6oG8kP0tJRR',\n",
    "    'Taylor Swift': 'spotify:artist:06HL4z0CvFAxyc27GXpf02',\n",
    "    'Harry Styles': 'spotify:artist:6KImCVD70vtIoJWnq6nGn3',\n",
    "    'Lara Fabian': 'spotify:artist:7ocwZINHqO9DZJgFtc1B20',\n",
    "    'Andrea Bocelli': 'spotify:artist:3EA9hVIzKfFiQI0Kikz2wo',\n",
    "    'Laurent Garnier': 'spotify:artist:3y1SoTOdrmRNTBVph5T0VZ'\n",
    "}\n",
    "\n",
    "artist_dict = {}\n",
    "tracks_dict = {}\n",
    "duration_dict = {}\n",
    "\n",
    "for a in artists.values():\n",
    "    artist_dict[a] = set()\n",
    "    tracks_dict[a] = set()\n",
    "    duration_dict[a] = 0\n"
   ]
  },
  {
   "cell_type": "markdown",
   "metadata": {},
   "source": [
    "Loop through all the playlists and their tracks to get the result data.\n",
    "\n",
    "In artist_dict, all the playlists that an artist appears in are added to their set.\n",
    "\n",
    "In tracks_dict, all the tracks that an artist has are added to their set.\n",
    "\n",
    "In duration_dict, all the durations of all the tracks that an artist has are added to their set.\n"
   ]
  },
  {
   "cell_type": "code",
   "execution_count": 8,
   "metadata": {},
   "outputs": [],
   "source": [
    "\n",
    "for playlist in playlists:\n",
    "    for track in playlist['tracks']:\n",
    "        if track['artist_uri'] in artists.values():\n",
    "            # num of playlists\n",
    "            if not playlist['pid'] in artist_dict[track['artist_uri']]:\n",
    "              artist_dict[track['artist_uri']].add(playlist['pid'])\n",
    "\n",
    "            # num of tracks\n",
    "            if not track['track_uri'] in tracks_dict[track['artist_uri']]:\n",
    "                tracks_dict[track['artist_uri']].add(track['track_uri'])\n",
    "\n",
    "            # duration\n",
    "            duration_dict[track['artist_uri']] += int(track['duration_ms'])\n"
   ]
  },
  {
   "cell_type": "markdown",
   "metadata": {},
   "source": [
    "Print out the formatted data for each artist"
   ]
  },
  {
   "cell_type": "code",
   "execution_count": 42,
   "metadata": {},
   "outputs": [
    {
     "name": "stdout",
     "output_type": "stream",
     "text": [
      "\t Zaz \n",
      "\n",
      "number of playlist features: 0\n",
      "number of tracks in playlists: 0\n",
      "total duration ms: 0\n",
      "total duration: 0:0:0:0\n",
      "-------------------------------------\n",
      "\n",
      "\t Oumou Sangaré \n",
      "\n",
      "number of playlist features: 0\n",
      "number of tracks in playlists: 0\n",
      "total duration ms: 0\n",
      "total duration: 0:0:0:0\n",
      "-------------------------------------\n",
      "\n",
      "\t Kendrick Lamar \n",
      "\n",
      "number of playlist features: 121\n",
      "number of tracks in playlists: 75\n",
      "total duration ms: 97779349\n",
      "total duration: 27:9:39:349\n",
      "-------------------------------------\n",
      "\n",
      "\t P!nk \n",
      "\n",
      "number of playlist features: 32\n",
      "number of tracks in playlists: 23\n",
      "total duration ms: 10601863\n",
      "total duration: 2:56:41:863\n",
      "-------------------------------------\n",
      "\n",
      "\t Muse \n",
      "\n",
      "number of playlist features: 14\n",
      "number of tracks in playlists: 16\n",
      "total duration ms: 9437498\n",
      "total duration: 2:37:17:498\n",
      "-------------------------------------\n",
      "\n",
      "\t The Killers \n",
      "\n",
      "number of playlist features: 40\n",
      "number of tracks in playlists: 12\n",
      "total duration ms: 12480106\n",
      "total duration: 3:28:0:106\n",
      "-------------------------------------\n",
      "\n",
      "\t Eminem \n",
      "\n",
      "number of playlist features: 91\n",
      "number of tracks in playlists: 77\n",
      "total duration ms: 97380184\n",
      "total duration: 27:3:0:184\n",
      "-------------------------------------\n",
      "\n",
      "\t Taylor Swift \n",
      "\n",
      "number of playlist features: 36\n",
      "number of tracks in playlists: 34\n",
      "total duration ms: 14887225\n",
      "total duration: 4:8:7:225\n",
      "-------------------------------------\n",
      "\n",
      "\t Harry Styles \n",
      "\n",
      "number of playlist features: 30\n",
      "number of tracks in playlists: 11\n",
      "total duration ms: 17981377\n",
      "total duration: 4:59:41:377\n",
      "-------------------------------------\n",
      "\n",
      "\t Lara Fabian \n",
      "\n",
      "number of playlist features: 0\n",
      "number of tracks in playlists: 0\n",
      "total duration ms: 0\n",
      "total duration: 0:0:0:0\n",
      "-------------------------------------\n",
      "\n",
      "\t Andrea Bocelli \n",
      "\n",
      "number of playlist features: 3\n",
      "number of tracks in playlists: 3\n",
      "total duration ms: 764432\n",
      "total duration: 0:12:44:432\n",
      "-------------------------------------\n",
      "\n",
      "\t Laurent Garnier \n",
      "\n",
      "number of playlist features: 0\n",
      "number of tracks in playlists: 0\n",
      "total duration ms: 0\n",
      "total duration: 0:0:0:0\n",
      "-------------------------------------\n",
      "\n"
     ]
    }
   ],
   "source": [
    "\n",
    "for key, a in artists.items():\n",
    "    print('\\t',key,'\\n')\n",
    "    print('number of playlist features:',len(artist_dict[a]))\n",
    "    print('number of tracks in playlists:',len(tracks_dict[a]))\n",
    "    print('total duration ms:',duration_dict[a])\n",
    "    print('total duration:',convertMillis(int(duration_dict[a])))\n",
    "    print('-------------------------------------\\n')\n",
    "\n"
   ]
  },
  {
   "cell_type": "markdown",
   "metadata": {},
   "source": [
    "Get and print the result for the most playlist features, most number of tracks, and longest duration per artist"
   ]
  },
  {
   "cell_type": "code",
   "execution_count": 41,
   "metadata": {},
   "outputs": [
    {
     "name": "stdout",
     "output_type": "stream",
     "text": [
      "spotify:artist:2YZyLoL8N0Wb9xBt1NhZWg\n",
      "Artist with the most ( 121 ) features: Kendrick Lamar\n",
      "Artist with the most ( 77 ) tracks: Eminem\n",
      "Artist with the longest ( 27:9:39:349 ) duration: Kendrick Lamar\n"
     ]
    }
   ],
   "source": [
    "features = {}\n",
    "tracks = {}\n",
    "\n",
    "for artist, value in artist_dict.items():\n",
    "      features[artist] = len(value)\n",
    "\n",
    "for artist, value in tracks_dict.items():\n",
    "      tracks[artist] = len(value)\n",
    "\n",
    "print(max(features, key=features.get))\n",
    "print('Artist with the most', '(', max(features.values()), ') features:', [k for k, v in artists.items() if v == max(features, key=features.get)][0] )\n",
    "print('Artist with the most', '(', max(tracks.values()), ') tracks:', [k for k, v in artists.items() if v == max(tracks, key=tracks.get)][0] )\n",
    "\n",
    "print('Artist with the longest', '(', convertMillis(int(max(duration_dict.values()))), ') duration:', [k for k, v in artists.items() if v == max(duration_dict, key=duration_dict.get)][0] )\n",
    "# print(tracks)"
   ]
  }
 ],
 "metadata": {
  "kernelspec": {
   "display_name": "Python 3.8.0 64-bit ('3.8.0')",
   "language": "python",
   "name": "python3"
  },
  "language_info": {
   "codemirror_mode": {
    "name": "ipython",
    "version": 3
   },
   "file_extension": ".py",
   "mimetype": "text/x-python",
   "name": "python",
   "nbconvert_exporter": "python",
   "pygments_lexer": "ipython3",
   "version": "3.8.0"
  },
  "orig_nbformat": 4,
  "vscode": {
   "interpreter": {
    "hash": "7f98614839827e241d8769e77beb87964b7d51ca2f59aa0f2ff5b3c5a548d61a"
   }
  }
 },
 "nbformat": 4,
 "nbformat_minor": 2
}
