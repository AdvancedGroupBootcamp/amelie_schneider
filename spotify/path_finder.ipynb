{
 "cells": [
  {
   "cell_type": "code",
   "execution_count": 111,
   "metadata": {},
   "outputs": [],
   "source": [
    "import pandas as pd\n",
    "import numpy as np\n",
    "import json\n",
    "import random"
   ]
  },
  {
   "cell_type": "markdown",
   "metadata": {},
   "source": [
    "This function is for choosing a random song in the playlist to find a path between. Alternatively, you can also choose two songs manually."
   ]
  },
  {
   "cell_type": "code",
   "execution_count": 112,
   "metadata": {},
   "outputs": [],
   "source": [
    "def random_song(playlists):\n",
    "    rand_index_playlist = random.randint(0,len(playlists))\n",
    "    rand_index_track = random.randint(0,len(playlists[rand_index_playlist]['tracks'])-1)\n",
    "    song = playlists[rand_index_playlist]['tracks'][rand_index_track]['track_uri']\n",
    "    print(playlists[rand_index_playlist]['tracks'][rand_index_track]['track_name'])\n",
    "\n",
    "    return song"
   ]
  },
  {
   "cell_type": "markdown",
   "metadata": {},
   "source": [
    "This function is there to condense the playlist data to only the parameters that are needed."
   ]
  },
  {
   "cell_type": "code",
   "execution_count": 113,
   "metadata": {},
   "outputs": [],
   "source": [
    "def new_playlist(name, pid, tracks):\n",
    "    new_playlist = {}\n",
    "    new_playlist['name'] = name\n",
    "    new_playlist['pid'] = pid\n",
    "    new_playlist['tracks'] = []\n",
    "    for track in tracks:\n",
    "        temp_dict = {}\n",
    "        temp_dict['track_name'] = track['track_name']\n",
    "        temp_dict['track_uri'] = track['track_uri']\n",
    "        temp_dict['pos'] = track['pos']\n",
    "        new_playlist['tracks'].append(temp_dict)\n",
    "\n",
    "    return new_playlist"
   ]
  },
  {
   "cell_type": "markdown",
   "metadata": {},
   "source": [
    "The class consists of the following functions:\n",
    "\n",
    "##### constructor:\n",
    "set all the parameters to their default values and create lists of all the playlists that contain the starting track and the ending track respectively\n",
    "##### update_starting_playlists_list:\n",
    "if no common songs between the current starting playlists and the ending playlists are found, then the starting playlists are changed to the ones that contain the next song in the last starting playlist\n",
    "##### add_to_path:\n",
    "add a song and the containing playlist to the path\n",
    "##### find_common:\n",
    "recursive function for finding the path between two songs. First, it checks whether the current starting playlists and ending playlist have any songs in common (in the right position, aka after the starting song and before the ending song). If not, then it sets the starting playlists to the ones containing the next song in the first starting playlists and calls the function again with the new starting playlists. When a result is found, the path is added and the function returns.\n",
    "##### print_path:\n",
    "adds the beginning song to the playlists, adds the jumping songs to the paths and reverses the path, since the list begins with the last result, aka the ending song. Then, it prints the full path in a formatted way"
   ]
  },
  {
   "cell_type": "code",
   "execution_count": 114,
   "metadata": {},
   "outputs": [],
   "source": [
    "class PathFinder():\n",
    "    \n",
    "    playlists = {}\n",
    "    complete = False\n",
    "    checked_playlists = []\n",
    "    start_song_uri = ''\n",
    "    end_song_uri = ''\n",
    "    starting_playlists = []\n",
    "    end_playlists = []\n",
    "    path = []\n",
    "\n",
    "    def __init__(self, playlists, start_song_uri, end_song_uri):\n",
    "\n",
    "        self.playlists = playlists\n",
    "        self.start_song_uri = start_song_uri\n",
    "        self.end_song_uri = end_song_uri\n",
    "        self.path = []\n",
    "        self.checked_playlists = []\n",
    "        self.starting_playlists = []\n",
    "        self.end_playlists = []\n",
    "        self.complete = False\n",
    "\n",
    "        for playlist in self.playlists:\n",
    "            for track in playlist['tracks']:\n",
    "                if start_song_uri == track['track_uri']:\n",
    "                    self.starting_playlists.append(new_playlist(playlist['name'], playlist['pid'], playlist['tracks'][track['pos']:]))\n",
    "                if end_song_uri == track['track_uri']:\n",
    "                    self.end_playlists.append(new_playlist(playlist['name'], playlist['pid'], playlist['tracks'][:track['pos']+1]))\n",
    "\n",
    "    def update_starting_playlists_list(self, song):\n",
    "        self.starting_playlists = []\n",
    "        for playlist in self.playlists:\n",
    "            if playlist['pid'] not in self.checked_playlists:\n",
    "                for track in playlist['tracks']:\n",
    "                    if song['track_uri'] == track['track_uri']:\n",
    "                        self.starting_playlists.append(new_playlist(playlist['name'], playlist['pid'], playlist['tracks'][track['pos']:]))\n",
    "\n",
    "    def add_to_path(self, song, playlist):\n",
    "        temp_dict = {}\n",
    "        temp_dict['song'] = song\n",
    "        temp_dict['playlist'] = playlist['pid']\n",
    "        temp_dict['playlist_name'] = playlist['name']\n",
    "        self.path.append(temp_dict)\n",
    "\n",
    "    def find_common(self):\n",
    "        for start_playlist in self.starting_playlists:\n",
    "            for track_a in start_playlist['tracks']:\n",
    "                for end_playlist in self.end_playlists:\n",
    "                    for track_b in end_playlist['tracks']:\n",
    "                        \n",
    "                        if(track_b['track_uri'] == track_a['track_uri']):\n",
    "                            \n",
    "                            self.complete = True\n",
    "\n",
    "                            for track in end_playlist['tracks']:\n",
    "                                if self.end_song_uri == track['track_uri']:\n",
    "                                    self.add_to_path(track, end_playlist)\n",
    "                                    break\n",
    "                                \n",
    "                            self.add_to_path(track_a, start_playlist)\n",
    "                            return\n",
    "\n",
    "            self.checked_playlists.append(start_playlist['pid'])\n",
    "\n",
    "        for playlist in self.starting_playlists:\n",
    "            for track in playlist['tracks']:\n",
    "\n",
    "                if not self.complete:  \n",
    "                    self.update_starting_playlists_list(track)\n",
    "                    self.find_common()\n",
    "                    if self.complete:\n",
    "                        self.add_to_path(track, playlist)\n",
    "                        return \n",
    "                else:\n",
    "                    return \n",
    "    \n",
    "    def print_path(self):\n",
    "        if len(self.path) != 0:\n",
    "            goal_playlist = self.playlists[int(self.path[-1]['playlist'])]\n",
    "            for track in goal_playlist['tracks']:\n",
    "                if self.start_song_uri == track['track_uri']:\n",
    "                    self.add_to_path(track, goal_playlist)\n",
    "\n",
    "            path_without_jumpers = self.path\n",
    "            self.path = []\n",
    "\n",
    "            for i, p in enumerate(path_without_jumpers):\n",
    "                if i != 0:\n",
    "                    current_song = p['song']['track_uri']\n",
    "                    goal_playlist = self.playlists[int(path_without_jumpers[i-1]['playlist'])]\n",
    "                    self.add_to_path(path_without_jumpers[i-1]['song'], goal_playlist)\n",
    "                    for track in goal_playlist['tracks']: \n",
    "                        if current_song == track['track_uri']:\n",
    "                            self.add_to_path(track, goal_playlist)\n",
    "                            break\n",
    "\n",
    "            new_path = self.path.copy()\n",
    "            new_path.reverse()\n",
    "            self.path = new_path\n",
    "\n",
    "        for i, p in enumerate(self.path):\n",
    "            if i == 0:\n",
    "                print('Starting Track: \"', p['song']['track_name'], '\" in Playlist \"', p['playlist_name'], '\" at Position', p['song']['pos'])\n",
    "            elif i == len(self.path)-1:\n",
    "                print('Ending Track: \"', p['song']['track_name'], '\" in Playlist \"', p['playlist_name'], '\" at Position', p['song']['pos'])\n",
    "            else:\n",
    "                print('\"', p['song']['track_name'], '\" in Playlist \"', p['playlist_name'], '\" at Position', p['song']['pos'])"
   ]
  },
  {
   "cell_type": "markdown",
   "metadata": {},
   "source": [
    "Load the playlists data"
   ]
  },
  {
   "cell_type": "code",
   "execution_count": 115,
   "metadata": {},
   "outputs": [],
   "source": [
    "\n",
    "file = open('mpd.slice.0-999.json')\n",
    "data = json.load(file)\n",
    "playlists = data['playlists']"
   ]
  },
  {
   "cell_type": "markdown",
   "metadata": {},
   "source": [
    "Create objects with two songs that you want to find a path inbetween. Use the random_song function to choose a random song out of the playlists."
   ]
  },
  {
   "cell_type": "code",
   "execution_count": 116,
   "metadata": {},
   "outputs": [
    {
     "name": "stdout",
     "output_type": "stream",
     "text": [
      "Starting Track: \" To the Moon \" in Playlist \" 😴😴 \" at Position 6\n",
      "\" LOVE. FEAT. ZACARI. \" in Playlist \" 😴😴 \" at Position 7\n",
      "\" LOVE. FEAT. ZACARI. \" in Playlist \" xx \" at Position 79\n",
      "\" Location \" in Playlist \" xx \" at Position 80\n",
      "\" Location \" in Playlist \" in my feels \" at Position 54\n",
      "\" Adorn \" in Playlist \" in my feels \" at Position 199\n",
      "\" Adorn \" in Playlist \" VIBE \" at Position 16\n",
      "Ending Track: \" Organ Donor \" in Playlist \" VIBE \" at Position 66\n",
      "\n",
      "\n",
      "Tomorrow Will Be Better\n",
      "This Is Real\n",
      "Starting Track: \" Tomorrow Will Be Better \" in Playlist \" Reggae \" at Position 24\n",
      "\" The Drugs \" in Playlist \" Reggae \" at Position 33\n",
      "\" The Drugs \" in Playlist \" study \" at Position 47\n",
      "Ending Track: \" This Is Real \" in Playlist \" study \" at Position 127\n"
     ]
    }
   ],
   "source": [
    "# call PathFinder with determined songs\n",
    "obj = PathFinder(playlists, 'spotify:track:6Umac95Mt46VcwAM9s9mOa', 'spotify:track:0qg7vnrsBfsDCikGxyWzSX')\n",
    "obj.find_common()\n",
    "obj.print_path()\n",
    "\n",
    "print('\\n')\n",
    "\n",
    "# call PathFinder with random songs\n",
    "obj2 = PathFinder(playlists, random_song(playlists), random_song(playlists))\n",
    "obj2.find_common()\n",
    "obj2.print_path()"
   ]
  }
 ],
 "metadata": {
  "kernelspec": {
   "display_name": "Python 3.8.0 64-bit ('3.8.0')",
   "language": "python",
   "name": "python3"
  },
  "language_info": {
   "codemirror_mode": {
    "name": "ipython",
    "version": 3
   },
   "file_extension": ".py",
   "mimetype": "text/x-python",
   "name": "python",
   "nbconvert_exporter": "python",
   "pygments_lexer": "ipython3",
   "version": "3.8.0"
  },
  "orig_nbformat": 4,
  "vscode": {
   "interpreter": {
    "hash": "7f98614839827e241d8769e77beb87964b7d51ca2f59aa0f2ff5b3c5a548d61a"
   }
  }
 },
 "nbformat": 4,
 "nbformat_minor": 2
}
