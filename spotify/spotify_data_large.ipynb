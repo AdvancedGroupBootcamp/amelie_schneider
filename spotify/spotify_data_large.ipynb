{
  "cells": [
    {
      "cell_type": "markdown",
      "metadata": {},
      "source": [
        "All the explanations for the code can be found in spotify_data.ipynb. This code should be executed in a Google Colab and the path of the dataset modified to point to its correct place for the individual user."
      ]
    },
    {
      "cell_type": "code",
      "execution_count": 5,
      "metadata": {
        "id": "kt77WtnraU5e"
      },
      "outputs": [],
      "source": [
        "import pandas as pd\n",
        "import json\n",
        "import zipfile\n",
        "from google.colab import drive"
      ]
    },
    {
      "cell_type": "code",
      "execution_count": 6,
      "metadata": {
        "id": "b_xwxZhOaYYB"
      },
      "outputs": [],
      "source": [
        "def convertMillis(millis):\n",
        "    rest = millis%(1000*60*60)\n",
        "    hours = int((millis-rest)/(1000*60*60))\n",
        "    millis = rest\n",
        "    rest = millis%(1000*60)\n",
        "    minutes = int((millis-rest)/(1000*60))\n",
        "    millis = rest\n",
        "    rest = millis%(1000)\n",
        "    seconds = int((millis-rest)/(1000))\n",
        "    millis = rest\n",
        "\n",
        "    return \"\"\"{0}:{1}:{2}:{3}\"\"\".format(hours, minutes, seconds, millis)"
      ]
    },
    {
      "cell_type": "code",
      "execution_count": 8,
      "metadata": {
        "colab": {
          "base_uri": "https://localhost:8080/"
        },
        "id": "QBYUobjijjZw",
        "outputId": "3fb99e18-151b-413e-d53b-81b043fc57db"
      },
      "outputs": [
        {
          "name": "stdout",
          "output_type": "stream",
          "text": [
            "Drive already mounted at /content/drive; to attempt to forcibly remount, call drive.mount(\"/content/drive\", force_remount=True).\n"
          ]
        }
      ],
      "source": [
        "drive.mount('/content/drive')\n",
        "zf = zipfile.ZipFile('/content/drive/MyDrive/bootcamp/spotify_million_playlist_dataset.zip')\n",
        "files = [name for name in zf.namelist() if name.endswith('.json')]\n",
        "\n",
        "artists = {\n",
        "    'Zaz': 'spotify:artist:1mbgj8ERPs8lWi7t5cYrdy',\n",
        "    'Oumou Sangaré': 'spotify:artist:65CKKZilbcSKkAPC9a5Mvh',\n",
        "    'Kendrick Lamar': 'spotify:artist:2YZyLoL8N0Wb9xBt1NhZWg',\n",
        "    'P!nk': 'spotify:artist:1KCSPY1glIKqW2TotWuXOR',\n",
        "    'Muse': 'spotify:artist:12Chz98pHFMPJEknJQMWvI',\n",
        "    'The Killers': 'spotify:artist:0C0XlULifJtAgn6ZNCW2eu',\n",
        "    'Eminem': 'spotify:artist:7dGJo4pcD2V6oG8kP0tJRR',\n",
        "    'Taylor Swift': 'spotify:artist:06HL4z0CvFAxyc27GXpf02',\n",
        "    'Harry Styles': 'spotify:artist:6KImCVD70vtIoJWnq6nGn3',\n",
        "    'Lara Fabian': 'spotify:artist:7ocwZINHqO9DZJgFtc1B20',\n",
        "    'Andrea Bocelli': 'spotify:artist:3EA9hVIzKfFiQI0Kikz2wo',\n",
        "    'Laurent Garnier': 'spotify:artist:3y1SoTOdrmRNTBVph5T0VZ'\n",
        "}\n",
        "\n",
        "artist_dict = {}\n",
        "tracks_dict = {}\n",
        "duration_dict = {}\n",
        "\n",
        "for a in artists.values():\n",
        "    artist_dict[a] = set()\n",
        "    tracks_dict[a] = set()\n",
        "    duration_dict[a] = 0\n",
        "\n",
        "for f in files:\n",
        "  temp_file = zf.open(f)\n",
        "  temp_data = json.load(temp_file)\n",
        "\n",
        "  for playlist in temp_data['playlists']:\n",
        "    for track in playlist['tracks']:\n",
        "        if track['artist_uri'] in artists.values():\n",
        "            \n",
        "            # num of playlists\n",
        "            if not playlist['pid'] in artist_dict[track['artist_uri']]:\n",
        "              artist_dict[track['artist_uri']].add(playlist['pid'])\n",
        "\n",
        "            # num of tracks\n",
        "            if not track['track_uri'] in tracks_dict[track['artist_uri']]:\n",
        "                tracks_dict[track['artist_uri']].add(track['track_uri'])\n",
        "\n",
        "            # duration\n",
        "            duration_dict[track['artist_uri']] += int(track['duration_ms'])\n"
      ]
    },
    {
      "cell_type": "code",
      "execution_count": 9,
      "metadata": {
        "colab": {
          "base_uri": "https://localhost:8080/"
        },
        "id": "pefX9_FJf5WU",
        "outputId": "81dba515-83c2-4a03-e429-b2cd1aab93d2"
      },
      "outputs": [
        {
          "name": "stdout",
          "output_type": "stream",
          "text": [
            "\t Zaz \n",
            "\n",
            "number of playlist features: 507\n",
            "number of tracks in playlists: 40\n",
            "total duration ms: 210200197\n",
            "total duration: 58:23:20:197\n",
            "-------------------------------------\n",
            "\n",
            "\t Oumou Sangaré \n",
            "\n",
            "number of playlist features: 114\n",
            "number of tracks in playlists: 44\n",
            "total duration ms: 48797009\n",
            "total duration: 13:33:17:9\n",
            "-------------------------------------\n",
            "\n",
            "\t Kendrick Lamar \n",
            "\n",
            "number of playlist features: 120901\n",
            "number of tracks in playlists: 128\n",
            "total duration ms: 88807665889\n",
            "total duration: 24668:47:45:889\n",
            "-------------------------------------\n",
            "\n",
            "\t P!nk \n",
            "\n",
            "number of playlist features: 35536\n",
            "number of tracks in playlists: 144\n",
            "total duration ms: 13687355968\n",
            "total duration: 3802:2:35:968\n",
            "-------------------------------------\n",
            "\n",
            "\t Muse \n",
            "\n",
            "number of playlist features: 18077\n",
            "number of tracks in playlists: 169\n",
            "total duration ms: 9689642624\n",
            "total duration: 2691:34:2:624\n",
            "-------------------------------------\n",
            "\n",
            "\t The Killers \n",
            "\n",
            "number of playlist features: 44540\n",
            "number of tracks in playlists: 106\n",
            "total duration ms: 19321051423\n",
            "total duration: 5366:57:31:423\n",
            "-------------------------------------\n",
            "\n",
            "\t Eminem \n",
            "\n",
            "number of playlist features: 76657\n",
            "number of tracks in playlists: 227\n",
            "total duration ms: 83918843596\n",
            "total duration: 23310:47:23:596\n",
            "-------------------------------------\n",
            "\n",
            "\t Taylor Swift \n",
            "\n",
            "number of playlist features: 40696\n",
            "number of tracks in playlists: 203\n",
            "total duration ms: 24566307386\n",
            "total duration: 6823:58:27:386\n",
            "-------------------------------------\n",
            "\n",
            "\t Harry Styles \n",
            "\n",
            "number of playlist features: 17910\n",
            "number of tracks in playlists: 12\n",
            "total duration ms: 8607549467\n",
            "total duration: 2390:59:9:467\n",
            "-------------------------------------\n",
            "\n",
            "\t Lara Fabian \n",
            "\n",
            "number of playlist features: 200\n",
            "number of tracks in playlists: 78\n",
            "total duration ms: 84009805\n",
            "total duration: 23:20:9:805\n",
            "-------------------------------------\n",
            "\n",
            "\t Andrea Bocelli \n",
            "\n",
            "number of playlist features: 2817\n",
            "number of tracks in playlists: 212\n",
            "total duration ms: 1483028573\n",
            "total duration: 411:57:8:573\n",
            "-------------------------------------\n",
            "\n",
            "\t Laurent Garnier \n",
            "\n",
            "number of playlist features: 89\n",
            "number of tracks in playlists: 24\n",
            "total duration ms: 43683311\n",
            "total duration: 12:8:3:311\n",
            "-------------------------------------\n",
            "\n"
          ]
        }
      ],
      "source": [
        "for key, a in artists.items():\n",
        "    print('\\t',key,'\\n')\n",
        "    print('number of playlist features:',len(artist_dict[a]))\n",
        "    print('number of tracks in playlists:',len(tracks_dict[a]))\n",
        "    print('total duration ms:',duration_dict[a])\n",
        "    print('total duration:',convertMillis(int(duration_dict[a])))\n",
        "    print('-------------------------------------\\n')"
      ]
    },
    {
      "cell_type": "code",
      "execution_count": 10,
      "metadata": {
        "colab": {
          "base_uri": "https://localhost:8080/"
        },
        "id": "0acMX0gBs-CL",
        "outputId": "52febdfb-fe83-4953-cf40-26418ecd0a6e"
      },
      "outputs": [
        {
          "name": "stdout",
          "output_type": "stream",
          "text": [
            "Artist with the most ( 120901 ) features: Kendrick Lamar\n",
            "Artist with the most ( 227 ) tracks: Eminem\n",
            "Artist with the longest ( 24668:47:45:889 ) duration: Kendrick Lamar\n"
          ]
        }
      ],
      "source": [
        "features = {}\n",
        "tracks = {}\n",
        "\n",
        "for artist, value in artist_dict.items():\n",
        "      features[artist] = len(value)\n",
        "\n",
        "for artist, value in tracks_dict.items():\n",
        "      tracks[artist] = len(value)\n",
        "\n",
        "print('Artist with the most', '(', max(features.values()), ') features:', [k for k, v in artists.items() if v == max(features, key=features.get)][0] )\n",
        "print('Artist with the most', '(', max(tracks.values()), ') tracks:', [k for k, v in artists.items() if v == max(tracks, key=tracks.get)][0] )\n",
        "print('Artist with the longest', '(', convertMillis(int(max(duration_dict.values()))), ') duration:', [k for k, v in artists.items() if v == max(duration_dict, key=duration_dict.get)][0] )"
      ]
    },
    {
      "cell_type": "markdown",
      "metadata": {
        "id": "vSwQpj7oLrRh"
      },
      "source": []
    }
  ],
  "metadata": {
    "colab": {
      "collapsed_sections": [],
      "provenance": []
    },
    "kernelspec": {
      "display_name": "Python 3",
      "name": "python3"
    },
    "language_info": {
      "name": "python"
    }
  },
  "nbformat": 4,
  "nbformat_minor": 0
}
