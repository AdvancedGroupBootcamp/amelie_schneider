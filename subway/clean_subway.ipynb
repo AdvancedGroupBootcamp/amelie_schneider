{
 "cells": [
  {
   "cell_type": "code",
   "execution_count": 173,
   "metadata": {},
   "outputs": [],
   "source": [
    "import pandas as pd\n",
    "import numpy as np\n",
    "import seaborn as sns"
   ]
  },
  {
   "cell_type": "markdown",
   "metadata": {},
   "source": [
    "# Clean Data"
   ]
  },
  {
   "cell_type": "code",
   "execution_count": 174,
   "metadata": {},
   "outputs": [],
   "source": [
    "def missing_values_table(df):\n",
    "    mis_val = df.isnull().sum()\n",
    "    mis_val_percent = 100 * df.isnull().sum() / len(df)\n",
    "    mis_val_table = pd.concat([mis_val, mis_val_percent], axis=1)\n",
    "    mis_val_table_ren_columns = mis_val_table.rename(\n",
    "    columns = {0 : 'Missing Values', 1 : '% of Total Values'})\n",
    "    mis_val_table_ren_columns = mis_val_table_ren_columns[\n",
    "        mis_val_table_ren_columns.iloc[:,1] != 0].sort_values(\n",
    "    '% of Total Values', ascending=False).round(1)\n",
    "    print (\"Your selected stage_train_dataframe has \" + str(df.shape[1]) + \" columns.\\n\"      \n",
    "        \"There are \" + str(mis_val_table_ren_columns.shape[0]) +\n",
    "            \" columns that have missing values.\")\n",
    "    return mis_val_table_ren_columns"
   ]
  },
  {
   "cell_type": "code",
   "execution_count": 175,
   "metadata": {},
   "outputs": [],
   "source": [
    "raw_data=pd.read_csv(\"qualite-de-lair-mesuree-dans-la-station-chatelet.csv\", sep=';', parse_dates=['DATE/HEURE'])"
   ]
  },
  {
   "cell_type": "code",
   "execution_count": 176,
   "metadata": {},
   "outputs": [
    {
     "data": {
      "text/plain": [
       "array(['ND', '5', '3', '6', '4', '2', '7', '10', '9', '8', '<2', '15',\n",
       "       '26', '73', '103', '111', '135', '119', '89', '49', '29', '32',\n",
       "       '34', '59', '43', '87', '46', '18', '11', '31', '45', '44', '12',\n",
       "       '25', '20', '17', '14', '16', '19', '21', '13', '24', '33', '23',\n",
       "       '53', '40', '36', '51', '22', '28', '35', '39', '41', '57', '42',\n",
       "       '30', '70', '58', '38', '27', '69', '62', '37', '84', '86', '76',\n",
       "       '66', '68', '48', '50', '55', '72', '56', '71', '65', '92', '60',\n",
       "       '75', '63', '81', '61', '52', '64', '74', '122', '124', '91',\n",
       "       '157', '85', '110', '120', '125', '113', '77', '54', '80', '101',\n",
       "       '144', '115', '114', '175', '199', '198', '212', '221', '186',\n",
       "       '165', '164', '112', '107', '141', '90', '104', '94', '99', '98',\n",
       "       '129', '131', '128', '67', '47', '118', '79', '106', '83', '88',\n",
       "       '82', '96', '179', '183', '78', '97', '253', '274', '189', '162',\n",
       "       '150', '143', '146', '140', '148', '138', '166', '156', '222',\n",
       "       '194', '187', '105', '151', '233', '262', '236', '154', '130',\n",
       "       '109', '133', '102', '234', '281', '95', '362', '210', '385',\n",
       "       '455', '365', '93', '136', '121', '123', '147', '174', '137',\n",
       "       '116', '108', '161', '155', '178', '167', '158', '142', '100',\n",
       "       '302', '733', '408', '283', '297', '235', '126', '185', '421',\n",
       "       '409', '240', '188', '184', '132', '160', '134', '145', '181',\n",
       "       '182', '201', '117', '171', '139', '152', '219', '313', '159',\n",
       "       '224', '239', '191', '172', '307', '363', '169', '217', '269',\n",
       "       '228', '261', '280', '170', '180', '211', '243', '207', '333',\n",
       "       '285', '203', '259', '208', '264', '299', '279', '197', '252',\n",
       "       '298', '305', '227', '230', '127', '176', '200', '163', '205',\n",
       "       '277', '282', '258', '168', '218', '293', '315', nan, '196', '214',\n",
       "       '149', '457', '284', '173', '177', '231', '206', '209', '220',\n",
       "       '192', '390', '454', '358', '578', '684', '691', '645', '566',\n",
       "       '475', '323', '329', '332', '292', '352', '386', '340', '256',\n",
       "       '225', '229', '202', '213', '216', '309', '387', '412', '416',\n",
       "       '357', '204', '226', '190', '215', '379', '246', '153', '193',\n",
       "       '237', '232', '263', '254', '247', '320', '300', '260', '249',\n",
       "       '195', '666', '223', '548', '512', '438', '267', '286', '273',\n",
       "       '342', '326', '255', '493', '287', '441', '290', '244', '308',\n",
       "       '402', '519', '271', '325', '521', '571', '489', '251', '338',\n",
       "       '404', '349', '314', '768', '248', '270', '275', '301', '311',\n",
       "       '238', '318', '304', '245', '469', '364', '366', '448', '257'],\n",
       "      dtype=object)"
      ]
     },
     "execution_count": 176,
     "metadata": {},
     "output_type": "execute_result"
    }
   ],
   "source": [
    "raw_data['NO'].unique()"
   ]
  },
  {
   "cell_type": "code",
   "execution_count": 177,
   "metadata": {},
   "outputs": [
    {
     "data": {
      "text/plain": [
       "array(['ND', '7', '23', '32', '28', '18', '15', '16', '14', '11', '8',\n",
       "       '9', '13', '20', '31', '2', '4', '17', '25', '10', '12', '3', '6',\n",
       "       '<2', '5', '19', '50', '52', '70', '37', '47', '49', '43', '54',\n",
       "       '75', '74', '66', '62', '53', '56', '57', '64', '69', '77', '80',\n",
       "       '89', '84', '63', '24', '60', '51', '46', '33', '22', '26', '30',\n",
       "       '42', '38', '40', '27', '34', '41', '36', '29', '21', '45', '44',\n",
       "       '35', '39', '58', '65', '72', '88', '48', '59', '61', '55', '71',\n",
       "       '67', '73', '68', '100', '92', '97', '91', '85', '83', '82', '93',\n",
       "       '87', '76', '79', '81', '78', '103', '129', '223', '151', '107',\n",
       "       '117', '131', '137', '139', '96', '90', '132', '133', '115', '109',\n",
       "       '111', '94', '95', '105', '99', '101', '86', '108', '113', '98',\n",
       "       nan, '165', '110', '162', '178', '150', '125', '152', '360', '104',\n",
       "       '326', '160', '118', '126', '138', '130', '127', '112', '119',\n",
       "       '123', '114', '102', '106', '166'], dtype=object)"
      ]
     },
     "execution_count": 177,
     "metadata": {},
     "output_type": "execute_result"
    }
   ],
   "source": [
    "raw_data['NO2'].unique()"
   ]
  },
  {
   "cell_type": "code",
   "execution_count": 178,
   "metadata": {},
   "outputs": [
    {
     "data": {
      "text/plain": [
       "array(['508', '529', '547', '614', '637', '646', '620', '625', '578',\n",
       "       '562', '564', '524', '455', '451', '473', '461', '441', '437',\n",
       "       '457', '467', '505', '528', '553', '558', '679', '712', '694',\n",
       "       '736', '609', '628', '580', '509', '476', '464', '448', '439',\n",
       "       '431', '436', '443', '489', '519', '533', '541', '556', '671',\n",
       "       '726', '791', '849', '713', '663', '577', '595', '600', 'ND',\n",
       "       '682', '598', '542', '499', '488', '501', '497', '538', '534',\n",
       "       '548', '554', '706', '813', '788', '653', '636', '572', '520',\n",
       "       '517', '630', '618', '530', '430', '414', '418', '762', '639',\n",
       "       '563', '570', '523', '559', '438', '447', '452', '496', '745',\n",
       "       '766', '783', '666', '608', '616', '588', '613', '669', '711',\n",
       "       '583', '507', '459', '445', '454', '471', '514', '658', '765',\n",
       "       '719', '728', '635', '599', '604', '485', '425', '426', '434',\n",
       "       '539', '555', '772', '790', '733', '710', '611', '568', '615',\n",
       "       '631', '512', '472', '470', '518', '584', '684', '742', '741',\n",
       "       '593', '585', '656', '596', '546', '483', '444', '450', '491',\n",
       "       '526', '571', '757', '769', '683', '623', '581', '638', '629',\n",
       "       '545', '420', '419', '487', '672', '763', '795', '540', '516',\n",
       "       '602', '655', '422', '424', '427', '423', '490', '537', '739',\n",
       "       '692', '622', '612', '567', '634', '642', '544', '477', '465',\n",
       "       '513', '521', '579', '591', '575', '463', '435', '432', '429',\n",
       "       '474', '502', '506', '605', '661', '681', '665', '627', '549',\n",
       "       '479', '428', '466', '515', '709', '820', '749', '641', '696',\n",
       "       '589', '535', '550', '573', '707', '566', '603', '576', '560',\n",
       "       '433', '522', '721', '815', '532', '633', '460', '442', '453',\n",
       "       '511', '664', '825', '778', '667', '654', '478', '462', '650',\n",
       "       '740', '743', '601', '607', '421', '456', '458', '500', '525',\n",
       "       '561', '621', '668', '693', '632', '574', '495', '716', '751',\n",
       "       '796', '416', '413', '415', '409', '494', '689', '794', '610',\n",
       "       '527', '484', '503', '645', '830', '475', '440', '449', '882',\n",
       "       '770', '677', '670', '469', '802', '678', '480', '481', '619',\n",
       "       '685', '624', '468', '606', '747', '643', '486', '410', '400',\n",
       "       '396', '404', '493', '647', '735', '557', '407', '405', '401',\n",
       "       '697', '698', '594', '543', '592', '640', '531', '552', '551',\n",
       "       '417', '446', '510', '586', '652', '750', '582', '691', '565',\n",
       "       '687', '626', '617', '705', '569', '498', '536', '700', '482',\n",
       "       '504', '674', '657', '644', '660', '649', '659', '492', '411',\n",
       "       '704', '412', '587', '688', '397', '771', '779', '738', '395',\n",
       "       '392', '403', '732', '399', '402', '408', '729', '781', '597',\n",
       "       '718', '805', '648', '773', '839', '886', '836', '761', '699',\n",
       "       '753', '829', '780', '680', '760', '844', '690', '768', '724',\n",
       "       '662', '676', '764', '777', '734', '686', '852', '809', '725',\n",
       "       '866', '808', '803', '759', '883', '858', '727', '824', '720',\n",
       "       '651', '756', '787', '731', '675', '590', '840', '775', '792',\n",
       "       '915', '876', '862', '861', '954', '897', '847', '881', '695',\n",
       "       '888', '932', '730', '835', '846', '898', '754', '823', '821',\n",
       "       '855', '892', '822', '816', '799', '703', '784', '811', '812',\n",
       "       '755', '854', '701', '801', '722', '806', '723', '714', '789',\n",
       "       '856', '702', '827', '717', '851', '810', '673', '744', '793',\n",
       "       '804', '748', '393', '394', '398', '406', '746', '767', '828',\n",
       "       '838', '782', '800', '818', '776', '837', '966', '758', '708',\n",
       "       '715', '934', '831', '774', '1058', '1166', '841', '873', '887',\n",
       "       '807', '879', '906', '826', '304', '850', '870', '786', '389',\n",
       "       '390', '388', '385', '384', '387', '860', '1050', '1013', '871',\n",
       "       '937', '833', '797', '834', '885', '917', '916', '877', '952',\n",
       "       '864', '859', '963', '889', '842', '891', '950', '865', '1021',\n",
       "       '1080', '1082', '935', '752', '992', '899', '893', '1016', '1086',\n",
       "       '971', '1001', '901', '1005', '1139', '737', '970', '1161', '1218',\n",
       "       '982', '1162', '955', '1071', '922', '896', '945', '943', '1270',\n",
       "       '853', '1176', '900', '884', '785', '953', '988', '911', '938',\n",
       "       '1132', '1012', '1136', '925', '1031', '894', '987', '1219', '907',\n",
       "       '918', '995', '994', '1216', '1093', '1075', '1201', '1378', '981',\n",
       "       '867', '930', '1065', '905', '908', '832', '1063', '961', '1029',\n",
       "       '890', '817', '875', '1099', '798', '920', '910', '1014', '1023',\n",
       "       '1105', '868', '383', '391', '863', '1122', '386', '941', '909',\n",
       "       '869', '965', '902', nan, '985', '1072', '958', '924', '819',\n",
       "       '845', '848', '1028', '903', '940', '929', '1038', '843', '948',\n",
       "       '990', '1017', '980', '942', '874', '1010', '814', '951', '957',\n",
       "       '946', '904', '983', '976', '939', '926', '1112', '989', '878',\n",
       "       '913', '880', '956', '923', '928', '1015', '1256', '1695', '1566',\n",
       "       '914', '1025', '1003', '936', '912', '969', '872', '949', '996',\n",
       "       '959', '997', '968', '972', '921', '1048', '933', '1106', '1022',\n",
       "       '895', '947', '1020', '979', '1000', '1092', '1034', '964', '993',\n",
       "       '1236', '1008', '973', '977', '967', '857', '919', '962', '978',\n",
       "       '944', '927', '975', '1054', '991', '1027', '1046', '1287', '1202',\n",
       "       '1101', '1111', '1006', '1011', '974', '931', '1009', '1066',\n",
       "       '1077', '984', '1024', '960', '986', '1074', '1088', '2321',\n",
       "       '1019', '1055', '1049', '1007', '1089', '1004', '1044', '1053',\n",
       "       '1083', '1039', '1036', '1108', '1100', '1030', '1059', '1131',\n",
       "       '1033', '1103', '1043', '1084', '1085', '1090', '1073', '1102',\n",
       "       '1118', '1078', '1037', '1081', '1124', '1052', '1146', '1076',\n",
       "       '1069', '1032', '1126', '1079', '1087', '1002', '1091', '1047',\n",
       "       '1040', '1164', '1062', '1067', '1064', '1042', '1018', '1060',\n",
       "       '1051', '1386', '1109', '1057', '999', '998', '1198'], dtype=object)"
      ]
     },
     "execution_count": 178,
     "metadata": {},
     "output_type": "execute_result"
    }
   ],
   "source": [
    "raw_data['CO2'].unique()"
   ]
  },
  {
   "cell_type": "code",
   "execution_count": 179,
   "metadata": {},
   "outputs": [
    {
     "data": {
      "text/plain": [
       "array(['43', '45', '42', '59', '65', '63', '83', '33', '29', '18', '10',\n",
       "       '8', '12', '5', '9', '17', '20', '32', '52', '58', '62', '47',\n",
       "       '56', '46', '41', '38', '34', '27', '23', '13', '24', '39', '49',\n",
       "       '69', '72', '71', '55', '48', '61', '68', '22', '26', '60', '70',\n",
       "       '76', '53', '44', '51', '75', '37', '28', 'ND', '78', '54', '<5',\n",
       "       '11', '140', '144', '30', '36', '66', '50', '15', '16', '100',\n",
       "       '21', '25', '64', '40', '19', '87', '6', '98', '57', '14', '67',\n",
       "       '124', '97', '7', '31', '74', '80', '79', '81', '77', '73', '92',\n",
       "       '82', '84', '35', '88', '85', '114', '86', '107', '104', '91',\n",
       "       '89', '101', '146', '93', '135', '90', '103', '96', '95', '106',\n",
       "       '110', '108', '94', '111', '133', '223', '127', '118', '137',\n",
       "       '123', '109', '115', '763', '142', '117', '134', '102', '119',\n",
       "       '>1000', '148', '143', '150', '125', '129', '99', '128', '112',\n",
       "       '120', '121', '113', '116', '147', '126', '152', '210', '176',\n",
       "       '182', '175', '177', '159', '155', '264', '149', '157', '168',\n",
       "       '167', '139', '136', '478', '411', '138', '105', '163', '145',\n",
       "       '169', '166', '165', '130', '160', '151', '122', '131', '132',\n",
       "       '141', '154', '178', '172', '174', '395', '312', '161', '179',\n",
       "       '529', '406', '317', '153', '341', '184', '158', '214', '195',\n",
       "       '162', '247', '612', '580', '500', '275', '171', '191', '249',\n",
       "       '203', '188', '202', '180', '156', '204', '292', '213', '216',\n",
       "       '185', '362', '261', '474', '311', '258', '255', '187', '226',\n",
       "       '222', '228', '306', '193', '208', '720', '173', '200', '212',\n",
       "       '201', '196', '217', '205', '164', '186', '302', '276', '516',\n",
       "       '420', '293', '808', '543', '215', '340', '416', '353', '197',\n",
       "       '219', '490', '265', '170', '531', '273', '535', '671', '183',\n",
       "       '194', '484', '522', '260', '198', '429', '245', '347', '231',\n",
       "       '557', '259', '360', '277', '274', '192', '189', '181', '244',\n",
       "       '464', '740', '412', '279', '659', '459', '267', '283', '564',\n",
       "       '942', '352', '234', '366', '405', '251', '281', '211', '936',\n",
       "       '634', '504', '382', '236', '558', '319', '282', '398', '354',\n",
       "       '209', '252', '239', '271', '230', '287', '238', '561', '262',\n",
       "       '237', '357', '294', '573', '483', '207', '240', '326', '597',\n",
       "       '687', '199', '380', '723', '221', '266', '456', '617', '722',\n",
       "       '455', '701', '835', '254', '387', '342', '220', '391', '654',\n",
       "       '320', '551', '344', '206', '229', '256', '233', '190', '218',\n",
       "       '224', '225', '372', '451', '443', '598', '296', '674', '346',\n",
       "       '404', '361', '257', '428', '563', '300', '235', '285', '912',\n",
       "       '288', '706', '967', '695', '432', '339', '309', '343', '413',\n",
       "       '470', '442', '248', '242', '243', '241', '232', '227', '364',\n",
       "       '433', '818', '246', '498', '334', '303', '499', '268', '861',\n",
       "       '910', '906', '322', '508', '345', '552', '441', '546', '250',\n",
       "       '295', '414', '253', '479', '396', '286', '574', '652', '290',\n",
       "       '284', '578', '298', '438', '373', '356', '493', '566', '377',\n",
       "       '444', '453', '769', '713', '920', '581', '780', '621', '528', nan,\n",
       "       '437', '289', '415', '623', '527', '793', '630', '291', '316',\n",
       "       '335', '337', '324', '739', '348', '548', '374', '401', '682',\n",
       "       '616', '539', '889', '512', '393', '475', '323', '517', '371',\n",
       "       '941', '628', '506', '446', '653', '606', '465', '390', '394',\n",
       "       '304', '270', '801', '679', '905', '753', '678', '431', '618',\n",
       "       '982', '400', '968', '670', '937', '418', '745', '805', '359',\n",
       "       '497', '791', '363', '675', '913', '639', '318', '280', '263',\n",
       "       '269', '314', '333', '305', '365', '315', '367', '330', '328',\n",
       "       '278', '381', '331', '313', '349', '358', '885', '332', '375',\n",
       "       '327', '350', '321', '272', '632', '407', '378', '329', '301',\n",
       "       '310', '299', '307', '351', '308', '384', '325', '338', '355',\n",
       "       '409', '379', '369', '297', '481', '704', '624', '620', '603',\n",
       "       '424', '469', '419', '511', '515', '457', '425', '472', '336',\n",
       "       '370', '448', '554', '386', '525', '530', '926', '458', '800',\n",
       "       '524', '724', '466', '584', '434', '430', '427', '454', '875',\n",
       "       '710', '778', '445', '388', '544', '660', '615', '567', '637',\n",
       "       '397', '571', '795', '462', '977', '743', '533', '587', '519',\n",
       "       '764', '655', '403', '950', '686', '883', '820', '877', '435',\n",
       "       '520', '847', '550', '491', '496', '608', '815', '503', '891',\n",
       "       '728', '368', '439', '605', '389', '399', '495', '449', '408',\n",
       "       '633', '788', '797', '881', '492', '426', '638', '501', '526',\n",
       "       '806', '452', '555', '536', '541', '402', '852', '690', '627',\n",
       "       '585', '886', '779', '824', '562', '664', '848', '480', '733',\n",
       "       '488', '999', '680', '625', '486', '463', '794', '947', '569',\n",
       "       '964', '604', '392', '422', '510', '644', '813', '903', '643',\n",
       "       '840', '602', '988', '595', '934', '827', '629', '596', '736',\n",
       "       '447', '440', '691', '904', '767', '583', '568', '726', '613',\n",
       "       '640', '572', '461', '494', '513', '417', '471', '482', '521',\n",
       "       '849', '907', '577', '765', '611', '798', '792', '735', '575',\n",
       "       '842', '945', '896', '547', '487', '385', '570', '532', '647',\n",
       "       '870', '645', '631', '777', '694', '592', '626', '560', '650',\n",
       "       '810', '467', '863', '376', '549', '641', '811', '502', '669',\n",
       "       '518', '705', '421', '509', '485', '553', '589', '831', '667',\n",
       "       '423', '473', '751', '588', '819', '816', '477', '476', '609',\n",
       "       '663', '774', '410', '514', '537', '876', '648', '658', '489',\n",
       "       '450', '614', '781', '787', '879', '601', '651', '747', '565',\n",
       "       '872', '635', '796', '714', '878', '523', '754', '646', '911',\n",
       "       '593', '860', '770', '693', '725', '717', '766', '830', '930',\n",
       "       '975', '955', '972', '460', '684', '938', '688', '505', '591',\n",
       "       '919', '507', '952', '957', '619', '622', '922', '594', '698',\n",
       "       '576'], dtype=object)"
      ]
     },
     "execution_count": 179,
     "metadata": {},
     "output_type": "execute_result"
    }
   ],
   "source": [
    "raw_data['PM10'].unique()"
   ]
  },
  {
   "cell_type": "code",
   "execution_count": 180,
   "metadata": {},
   "outputs": [
    {
     "data": {
      "text/plain": [
       "array([datetime.datetime(2022, 10, 10, 2, 0, tzinfo=tzoffset(None, 7200)),\n",
       "       datetime.datetime(2022, 10, 10, 1, 0, tzinfo=tzoffset(None, 7200)),\n",
       "       datetime.datetime(2022, 10, 10, 0, 0, tzinfo=tzoffset(None, 7200)),\n",
       "       ...,\n",
       "       datetime.datetime(2013, 1, 1, 4, 0, tzinfo=tzoffset(None, 3600)),\n",
       "       datetime.datetime(2013, 1, 1, 3, 0, tzinfo=tzoffset(None, 3600)),\n",
       "       datetime.datetime(2013, 1, 1, 2, 0, tzinfo=tzoffset(None, 3600))],\n",
       "      dtype=object)"
      ]
     },
     "execution_count": 180,
     "metadata": {},
     "output_type": "execute_result"
    }
   ],
   "source": [
    "raw_data['DATE/HEURE'].unique()"
   ]
  },
  {
   "cell_type": "code",
   "execution_count": 181,
   "metadata": {},
   "outputs": [
    {
     "data": {
      "text/plain": [
       "array(['18,2', '18,5', '18,8', '19,1', '19,4', '19,5', '19,2', '18,3',\n",
       "       '18', '18,9', '18,6', '17,8', '17,2', '17,3', '17,4', '18,4',\n",
       "       '18,7', '19', '19,6', '19,7', '19,8', '19,9', '17,7', '17,5',\n",
       "       '17,9', '20,3', '20,5', '17,1', '19,3', '20,2', '20,4', '20,1',\n",
       "       '17,6', 'ND', '22,4', '22,3', '21,7', '21,5', '21', '20,6', '21,6',\n",
       "       '21,3', '20,7', '17', '21,2', '20,9', '18,1', '20', '20,8', '21,1',\n",
       "       '21,4', '21,8', '23,2', '23,3', '23', '22,7', '23,8', '23,4',\n",
       "       '23,1', '22,8', '22,5', '22,6', '22,1', '22', '22,9', '23,6',\n",
       "       '24,1', '24,3', '24,4', '25,8', '25,4', '25,2', '24,7', '24,2',\n",
       "       '24', '23,7', '23,5', '23,9', '24,6', '25', '24,9', '22,2', '24,8',\n",
       "       '25,3', '21,9', '24,5', '25,1', '26,1', '25,6', '26', '25,7',\n",
       "       '25,5', '25,9', '26,3', '26,6', '26,8', '26,7', '26,4', '26,9',\n",
       "       '26,5', '26,2', '27', '27,1', '27,2', '27,7', '27,9', '28', '27,4',\n",
       "       '27,5', '27,3', '27,8', '27,6', '28,2', '28,1', '16,5', '16,2',\n",
       "       '15,8', '16', '16,6', '16,7', '16,8', '16,4', '16,3', '16,9',\n",
       "       '15,4', '15,1', '15,5', '16,1', '15,9', '15,3', '15,2', '15,6',\n",
       "       '14,6', '14,4', '14,5', '15', '15,7', '14,9', '14,8', '14,2',\n",
       "       '14,3', '14,1', '13,9', '14,7', '14', '13,6', '13,8', '13,7',\n",
       "       '13,5', '13', '12,5', '12,1', '12,3', '12,7', '13,4', '13,2',\n",
       "       '12,8', '12,9', '11,9', '11,6', '12,6', '13,3', '12', '12,2',\n",
       "       '13,1', '12,4', '11,8', '11,3', '11,2', '10,7', '10,5', '11,1',\n",
       "       '11,5', '10,4', '10,3', '10,9', '10,8', '11,4', '11', '11,7',\n",
       "       '10,2', '9,9', '10,6', '10', '9,5', '9,4', '9,7', '10,1', '9,8',\n",
       "       '9,3', '9,6', '28,3', '28,4', nan, '28,5', '28,9', '28,7', '28,6',\n",
       "       '28,8', '29,1', '29,3', '29,2', '29', '29,5', '29,9', '30', '29,8',\n",
       "       '29,4', '29,6', '29,7', '30,1', '30,4', '30,6', '30,7', '30,8',\n",
       "       '30,9', '31', '30,5', '30,2', '31,1', '31,2', '30,3', '31,3',\n",
       "       '31,4', '31,5', '31,6', '31,7'], dtype=object)"
      ]
     },
     "execution_count": 181,
     "metadata": {},
     "output_type": "execute_result"
    }
   ],
   "source": [
    "raw_data['TEMP'].unique()"
   ]
  },
  {
   "cell_type": "code",
   "execution_count": 182,
   "metadata": {},
   "outputs": [],
   "source": [
    "cleaned_data = raw_data.replace('ND', np.nan)\n",
    "cleaned_data['TEMP'] = cleaned_data['TEMP'].str.replace(',', '.')\n",
    "cleaned_data['HUMI'] = cleaned_data['HUMI'].str.replace(',', '.')\n",
    "# we just drop the < / > signs, because we have no indication what this means\n",
    "cleaned_data = cleaned_data.replace(to_replace=[r'<',r'>'], value='', regex=True)"
   ]
  },
  {
   "cell_type": "code",
   "execution_count": 183,
   "metadata": {},
   "outputs": [],
   "source": [
    "cleaned_data.head()\n",
    "cleaned_data.to_csv('test')"
   ]
  },
  {
   "cell_type": "code",
   "execution_count": 184,
   "metadata": {},
   "outputs": [],
   "source": [
    "cleaned_data[['NO', 'NO2', 'PM10', 'CO2', 'TEMP', 'HUMI']] = cleaned_data[['NO', 'NO2', 'PM10', 'CO2', 'TEMP', 'HUMI']].apply(pd.to_numeric)"
   ]
  },
  {
   "cell_type": "markdown",
   "metadata": {},
   "source": [
    "#### DATE / TIME"
   ]
  },
  {
   "cell_type": "code",
   "execution_count": 185,
   "metadata": {},
   "outputs": [
    {
     "data": {
      "text/html": [
       "<div>\n",
       "<style scoped>\n",
       "    .dataframe tbody tr th:only-of-type {\n",
       "        vertical-align: middle;\n",
       "    }\n",
       "\n",
       "    .dataframe tbody tr th {\n",
       "        vertical-align: top;\n",
       "    }\n",
       "\n",
       "    .dataframe thead th {\n",
       "        text-align: right;\n",
       "    }\n",
       "</style>\n",
       "<table border=\"1\" class=\"dataframe\">\n",
       "  <thead>\n",
       "    <tr style=\"text-align: right;\">\n",
       "      <th></th>\n",
       "      <th>NO</th>\n",
       "      <th>NO2</th>\n",
       "      <th>PM10</th>\n",
       "      <th>CO2</th>\n",
       "      <th>TEMP</th>\n",
       "      <th>HUMI</th>\n",
       "      <th>DATE</th>\n",
       "    </tr>\n",
       "  </thead>\n",
       "  <tbody>\n",
       "    <tr>\n",
       "      <th>0</th>\n",
       "      <td>NaN</td>\n",
       "      <td>NaN</td>\n",
       "      <td>43.0</td>\n",
       "      <td>508.0</td>\n",
       "      <td>18.2</td>\n",
       "      <td>49.1</td>\n",
       "      <td>2022-10-10 00:00:00+00:00</td>\n",
       "    </tr>\n",
       "    <tr>\n",
       "      <th>1</th>\n",
       "      <td>NaN</td>\n",
       "      <td>NaN</td>\n",
       "      <td>45.0</td>\n",
       "      <td>529.0</td>\n",
       "      <td>18.5</td>\n",
       "      <td>48.4</td>\n",
       "      <td>2022-10-09 23:00:00+00:00</td>\n",
       "    </tr>\n",
       "    <tr>\n",
       "      <th>2</th>\n",
       "      <td>NaN</td>\n",
       "      <td>NaN</td>\n",
       "      <td>42.0</td>\n",
       "      <td>547.0</td>\n",
       "      <td>18.8</td>\n",
       "      <td>47.1</td>\n",
       "      <td>2022-10-09 22:00:00+00:00</td>\n",
       "    </tr>\n",
       "    <tr>\n",
       "      <th>3</th>\n",
       "      <td>NaN</td>\n",
       "      <td>NaN</td>\n",
       "      <td>59.0</td>\n",
       "      <td>614.0</td>\n",
       "      <td>19.1</td>\n",
       "      <td>47.2</td>\n",
       "      <td>2022-10-09 21:00:00+00:00</td>\n",
       "    </tr>\n",
       "    <tr>\n",
       "      <th>4</th>\n",
       "      <td>NaN</td>\n",
       "      <td>NaN</td>\n",
       "      <td>65.0</td>\n",
       "      <td>637.0</td>\n",
       "      <td>19.4</td>\n",
       "      <td>46.3</td>\n",
       "      <td>2022-10-09 20:00:00+00:00</td>\n",
       "    </tr>\n",
       "  </tbody>\n",
       "</table>\n",
       "</div>"
      ],
      "text/plain": [
       "   NO  NO2  PM10    CO2  TEMP  HUMI                      DATE\n",
       "0 NaN  NaN  43.0  508.0  18.2  49.1 2022-10-10 00:00:00+00:00\n",
       "1 NaN  NaN  45.0  529.0  18.5  48.4 2022-10-09 23:00:00+00:00\n",
       "2 NaN  NaN  42.0  547.0  18.8  47.1 2022-10-09 22:00:00+00:00\n",
       "3 NaN  NaN  59.0  614.0  19.1  47.2 2022-10-09 21:00:00+00:00\n",
       "4 NaN  NaN  65.0  637.0  19.4  46.3 2022-10-09 20:00:00+00:00"
      ]
     },
     "execution_count": 185,
     "metadata": {},
     "output_type": "execute_result"
    }
   ],
   "source": [
    "cleaned_data['DATE'] = pd.to_datetime(cleaned_data['DATE/HEURE'], utc=True)\n",
    "cleaned_data = cleaned_data.drop(columns=['DATE/HEURE'])\n",
    "cleaned_data.head()"
   ]
  },
  {
   "cell_type": "markdown",
   "metadata": {},
   "source": [
    "#### Missing Values"
   ]
  },
  {
   "cell_type": "code",
   "execution_count": 186,
   "metadata": {},
   "outputs": [
    {
     "name": "stdout",
     "output_type": "stream",
     "text": [
      "Your selected stage_train_dataframe has 7 columns.\n",
      "There are 6 columns that have missing values.\n"
     ]
    },
    {
     "data": {
      "text/html": [
       "<div>\n",
       "<style scoped>\n",
       "    .dataframe tbody tr th:only-of-type {\n",
       "        vertical-align: middle;\n",
       "    }\n",
       "\n",
       "    .dataframe tbody tr th {\n",
       "        vertical-align: top;\n",
       "    }\n",
       "\n",
       "    .dataframe thead th {\n",
       "        text-align: right;\n",
       "    }\n",
       "</style>\n",
       "<table border=\"1\" class=\"dataframe\">\n",
       "  <thead>\n",
       "    <tr style=\"text-align: right;\">\n",
       "      <th></th>\n",
       "      <th>Missing Values</th>\n",
       "      <th>% of Total Values</th>\n",
       "    </tr>\n",
       "  </thead>\n",
       "  <tbody>\n",
       "    <tr>\n",
       "      <th>NO</th>\n",
       "      <td>28296</td>\n",
       "      <td>33.1</td>\n",
       "    </tr>\n",
       "    <tr>\n",
       "      <th>NO2</th>\n",
       "      <td>19504</td>\n",
       "      <td>22.8</td>\n",
       "    </tr>\n",
       "    <tr>\n",
       "      <th>CO2</th>\n",
       "      <td>15722</td>\n",
       "      <td>18.4</td>\n",
       "    </tr>\n",
       "    <tr>\n",
       "      <th>PM10</th>\n",
       "      <td>15330</td>\n",
       "      <td>17.9</td>\n",
       "    </tr>\n",
       "    <tr>\n",
       "      <th>TEMP</th>\n",
       "      <td>10712</td>\n",
       "      <td>12.5</td>\n",
       "    </tr>\n",
       "    <tr>\n",
       "      <th>HUMI</th>\n",
       "      <td>10711</td>\n",
       "      <td>12.5</td>\n",
       "    </tr>\n",
       "  </tbody>\n",
       "</table>\n",
       "</div>"
      ],
      "text/plain": [
       "      Missing Values  % of Total Values\n",
       "NO             28296               33.1\n",
       "NO2            19504               22.8\n",
       "CO2            15722               18.4\n",
       "PM10           15330               17.9\n",
       "TEMP           10712               12.5\n",
       "HUMI           10711               12.5"
      ]
     },
     "execution_count": 186,
     "metadata": {},
     "output_type": "execute_result"
    }
   ],
   "source": [
    "missing_values_table(cleaned_data)"
   ]
  },
  {
   "cell_type": "code",
   "execution_count": 187,
   "metadata": {},
   "outputs": [
    {
     "data": {
      "text/plain": [
       "<AxesSubplot: >"
      ]
     },
     "execution_count": 187,
     "metadata": {},
     "output_type": "execute_result"
    },
    {
     "data": {
      "image/png": "[encoded data removed]",
      "text/plain": [
       "<Figure size 640x480 with 2 Axes>"
      ]
     },
     "metadata": {},
     "output_type": "display_data"
    }
   ],
   "source": [
    "sns.heatmap(cleaned_data.isnull())"
   ]
  },
  {
   "cell_type": "markdown",
   "metadata": {},
   "source": [
    "Drop rows that do not have any values except datetime"
   ]
  },
  {
   "cell_type": "code",
   "execution_count": 188,
   "metadata": {},
   "outputs": [],
   "source": [
    "cleaned_data.dropna(thresh=6, inplace=True)"
   ]
  },
  {
   "cell_type": "markdown",
   "metadata": {},
   "source": [
    "Since we are dealing with chronological data, we will fill the missing values with the ones that happened right before."
   ]
  },
  {
   "cell_type": "code",
   "execution_count": 189,
   "metadata": {},
   "outputs": [],
   "source": [
    "cleaned_data.fillna(method='bfill', inplace=True)"
   ]
  },
  {
   "cell_type": "code",
   "execution_count": 190,
   "metadata": {},
   "outputs": [
    {
     "name": "stdout",
     "output_type": "stream",
     "text": [
      "Your selected stage_train_dataframe has 7 columns.\n",
      "There are 0 columns that have missing values.\n"
     ]
    },
    {
     "data": {
      "text/html": [
       "<div>\n",
       "<style scoped>\n",
       "    .dataframe tbody tr th:only-of-type {\n",
       "        vertical-align: middle;\n",
       "    }\n",
       "\n",
       "    .dataframe tbody tr th {\n",
       "        vertical-align: top;\n",
       "    }\n",
       "\n",
       "    .dataframe thead th {\n",
       "        text-align: right;\n",
       "    }\n",
       "</style>\n",
       "<table border=\"1\" class=\"dataframe\">\n",
       "  <thead>\n",
       "    <tr style=\"text-align: right;\">\n",
       "      <th></th>\n",
       "      <th>Missing Values</th>\n",
       "      <th>% of Total Values</th>\n",
       "    </tr>\n",
       "  </thead>\n",
       "  <tbody>\n",
       "  </tbody>\n",
       "</table>\n",
       "</div>"
      ],
      "text/plain": [
       "Empty DataFrame\n",
       "Columns: [Missing Values, % of Total Values]\n",
       "Index: []"
      ]
     },
     "execution_count": 190,
     "metadata": {},
     "output_type": "execute_result"
    }
   ],
   "source": [
    "missing_values_table(cleaned_data)"
   ]
  },
  {
   "cell_type": "code",
   "execution_count": 191,
   "metadata": {},
   "outputs": [
    {
     "data": {
      "text/html": [
       "<div>\n",
       "<style scoped>\n",
       "    .dataframe tbody tr th:only-of-type {\n",
       "        vertical-align: middle;\n",
       "    }\n",
       "\n",
       "    .dataframe tbody tr th {\n",
       "        vertical-align: top;\n",
       "    }\n",
       "\n",
       "    .dataframe thead th {\n",
       "        text-align: right;\n",
       "    }\n",
       "</style>\n",
       "<table border=\"1\" class=\"dataframe\">\n",
       "  <thead>\n",
       "    <tr style=\"text-align: right;\">\n",
       "      <th></th>\n",
       "      <th>NO</th>\n",
       "      <th>NO2</th>\n",
       "      <th>PM10</th>\n",
       "      <th>CO2</th>\n",
       "      <th>TEMP</th>\n",
       "      <th>HUMI</th>\n",
       "    </tr>\n",
       "    <tr>\n",
       "      <th>DATE</th>\n",
       "      <th></th>\n",
       "      <th></th>\n",
       "      <th></th>\n",
       "      <th></th>\n",
       "      <th></th>\n",
       "      <th></th>\n",
       "    </tr>\n",
       "  </thead>\n",
       "  <tbody>\n",
       "    <tr>\n",
       "      <th>2022-09-29 01:00:00+00:00</th>\n",
       "      <td>5.0</td>\n",
       "      <td>7.0</td>\n",
       "      <td>20.0</td>\n",
       "      <td>444.0</td>\n",
       "      <td>18.8</td>\n",
       "      <td>47.6</td>\n",
       "    </tr>\n",
       "    <tr>\n",
       "      <th>2022-09-29 00:00:00+00:00</th>\n",
       "      <td>3.0</td>\n",
       "      <td>23.0</td>\n",
       "      <td>11.0</td>\n",
       "      <td>450.0</td>\n",
       "      <td>17.8</td>\n",
       "      <td>50.0</td>\n",
       "    </tr>\n",
       "    <tr>\n",
       "      <th>2022-09-28 23:00:00+00:00</th>\n",
       "      <td>6.0</td>\n",
       "      <td>32.0</td>\n",
       "      <td>36.0</td>\n",
       "      <td>491.0</td>\n",
       "      <td>18.0</td>\n",
       "      <td>49.3</td>\n",
       "    </tr>\n",
       "    <tr>\n",
       "      <th>2022-09-28 22:00:00+00:00</th>\n",
       "      <td>4.0</td>\n",
       "      <td>28.0</td>\n",
       "      <td>39.0</td>\n",
       "      <td>526.0</td>\n",
       "      <td>18.1</td>\n",
       "      <td>46.8</td>\n",
       "    </tr>\n",
       "    <tr>\n",
       "      <th>2022-09-28 21:00:00+00:00</th>\n",
       "      <td>2.0</td>\n",
       "      <td>18.0</td>\n",
       "      <td>36.0</td>\n",
       "      <td>571.0</td>\n",
       "      <td>18.2</td>\n",
       "      <td>43.5</td>\n",
       "    </tr>\n",
       "    <tr>\n",
       "      <th>...</th>\n",
       "      <td>...</td>\n",
       "      <td>...</td>\n",
       "      <td>...</td>\n",
       "      <td>...</td>\n",
       "      <td>...</td>\n",
       "      <td>...</td>\n",
       "    </tr>\n",
       "    <tr>\n",
       "      <th>2013-01-01 05:00:00+00:00</th>\n",
       "      <td>4.0</td>\n",
       "      <td>26.0</td>\n",
       "      <td>102.0</td>\n",
       "      <td>622.0</td>\n",
       "      <td>21.2</td>\n",
       "      <td>45.9</td>\n",
       "    </tr>\n",
       "    <tr>\n",
       "      <th>2013-01-01 04:00:00+00:00</th>\n",
       "      <td>3.0</td>\n",
       "      <td>25.0</td>\n",
       "      <td>85.0</td>\n",
       "      <td>715.0</td>\n",
       "      <td>21.6</td>\n",
       "      <td>45.8</td>\n",
       "    </tr>\n",
       "    <tr>\n",
       "      <th>2013-01-01 03:00:00+00:00</th>\n",
       "      <td>4.0</td>\n",
       "      <td>27.0</td>\n",
       "      <td>124.0</td>\n",
       "      <td>799.0</td>\n",
       "      <td>21.8</td>\n",
       "      <td>47.0</td>\n",
       "    </tr>\n",
       "    <tr>\n",
       "      <th>2013-01-01 02:00:00+00:00</th>\n",
       "      <td>6.0</td>\n",
       "      <td>30.0</td>\n",
       "      <td>166.0</td>\n",
       "      <td>800.0</td>\n",
       "      <td>21.6</td>\n",
       "      <td>47.3</td>\n",
       "    </tr>\n",
       "    <tr>\n",
       "      <th>2013-01-01 01:00:00+00:00</th>\n",
       "      <td>6.0</td>\n",
       "      <td>31.0</td>\n",
       "      <td>182.0</td>\n",
       "      <td>776.0</td>\n",
       "      <td>21.5</td>\n",
       "      <td>46.2</td>\n",
       "    </tr>\n",
       "  </tbody>\n",
       "</table>\n",
       "<p>64698 rows × 6 columns</p>\n",
       "</div>"
      ],
      "text/plain": [
       "                            NO   NO2   PM10    CO2  TEMP  HUMI\n",
       "DATE                                                          \n",
       "2022-09-29 01:00:00+00:00  5.0   7.0   20.0  444.0  18.8  47.6\n",
       "2022-09-29 00:00:00+00:00  3.0  23.0   11.0  450.0  17.8  50.0\n",
       "2022-09-28 23:00:00+00:00  6.0  32.0   36.0  491.0  18.0  49.3\n",
       "2022-09-28 22:00:00+00:00  4.0  28.0   39.0  526.0  18.1  46.8\n",
       "2022-09-28 21:00:00+00:00  2.0  18.0   36.0  571.0  18.2  43.5\n",
       "...                        ...   ...    ...    ...   ...   ...\n",
       "2013-01-01 05:00:00+00:00  4.0  26.0  102.0  622.0  21.2  45.9\n",
       "2013-01-01 04:00:00+00:00  3.0  25.0   85.0  715.0  21.6  45.8\n",
       "2013-01-01 03:00:00+00:00  4.0  27.0  124.0  799.0  21.8  47.0\n",
       "2013-01-01 02:00:00+00:00  6.0  30.0  166.0  800.0  21.6  47.3\n",
       "2013-01-01 01:00:00+00:00  6.0  31.0  182.0  776.0  21.5  46.2\n",
       "\n",
       "[64698 rows x 6 columns]"
      ]
     },
     "execution_count": 191,
     "metadata": {},
     "output_type": "execute_result"
    }
   ],
   "source": [
    "cleaned_data = cleaned_data.set_index('DATE')\n",
    "# cleaned_data['DATE'] = cleaned_data.index\n",
    "cleaned_data"
   ]
  },
  {
   "cell_type": "code",
   "execution_count": 192,
   "metadata": {},
   "outputs": [
    {
     "name": "stdout",
     "output_type": "stream",
     "text": [
      "<class 'pandas.core.frame.DataFrame'>\n",
      "DatetimeIndex: 64698 entries, 2022-09-29 01:00:00+00:00 to 2013-01-01 01:00:00+00:00\n",
      "Data columns (total 6 columns):\n",
      " #   Column  Non-Null Count  Dtype  \n",
      "---  ------  --------------  -----  \n",
      " 0   NO      64698 non-null  float64\n",
      " 1   NO2     64698 non-null  float64\n",
      " 2   PM10    64698 non-null  float64\n",
      " 3   CO2     64698 non-null  float64\n",
      " 4   TEMP    64698 non-null  float64\n",
      " 5   HUMI    64698 non-null  float64\n",
      "dtypes: float64(6)\n",
      "memory usage: 3.5 MB\n"
     ]
    }
   ],
   "source": [
    "cleaned_data.info()"
   ]
  },
  {
   "cell_type": "code",
   "execution_count": 193,
   "metadata": {},
   "outputs": [
    {
     "data": {
      "text/plain": [
       "<AxesSubplot: >"
      ]
     },
     "execution_count": 193,
     "metadata": {},
     "output_type": "execute_result"
    },
    {
     "data": {
      "image/png": "[encoded data removed]",
      "text/plain": [
       "<Figure size 640x480 with 1 Axes>"
      ]
     },
     "metadata": {},
     "output_type": "display_data"
    }
   ],
   "source": [
    "cleaned_data.boxplot()"
   ]
  },
  {
   "cell_type": "markdown",
   "metadata": {},
   "source": [
    "There are some outliers, but our dataset is very large, so it is not that bad."
   ]
  },
  {
   "cell_type": "code",
   "execution_count": 194,
   "metadata": {},
   "outputs": [
    {
     "name": "stderr",
     "output_type": "stream",
     "text": [
      "/tmp/ipykernel_5696/3463164452.py:3: FutureWarning: weekofyear and week have been deprecated, please use DatetimeIndex.isocalendar().week instead, which returns a Series. To exactly reproduce the behavior of week and weekofyear and return an Index, you may call pd.Int64Index(idx.isocalendar().week)\n",
      "  cleaned_data['WEEK_OF_YEAR'] = cleaned_data.index.weekofyear\n"
     ]
    },
    {
     "data": {
      "text/html": [
       "<div>\n",
       "<style scoped>\n",
       "    .dataframe tbody tr th:only-of-type {\n",
       "        vertical-align: middle;\n",
       "    }\n",
       "\n",
       "    .dataframe tbody tr th {\n",
       "        vertical-align: top;\n",
       "    }\n",
       "\n",
       "    .dataframe thead th {\n",
       "        text-align: right;\n",
       "    }\n",
       "</style>\n",
       "<table border=\"1\" class=\"dataframe\">\n",
       "  <thead>\n",
       "    <tr style=\"text-align: right;\">\n",
       "      <th></th>\n",
       "      <th>NO</th>\n",
       "      <th>NO2</th>\n",
       "      <th>PM10</th>\n",
       "      <th>CO2</th>\n",
       "      <th>TEMP</th>\n",
       "      <th>HUMI</th>\n",
       "      <th>HOUR</th>\n",
       "      <th>MONTH</th>\n",
       "      <th>WEEK_OF_YEAR</th>\n",
       "      <th>DAY</th>\n",
       "      <th>YEAR</th>\n",
       "      <th>WEEKDAY</th>\n",
       "      <th>WEEKEND</th>\n",
       "    </tr>\n",
       "    <tr>\n",
       "      <th>DATE</th>\n",
       "      <th></th>\n",
       "      <th></th>\n",
       "      <th></th>\n",
       "      <th></th>\n",
       "      <th></th>\n",
       "      <th></th>\n",
       "      <th></th>\n",
       "      <th></th>\n",
       "      <th></th>\n",
       "      <th></th>\n",
       "      <th></th>\n",
       "      <th></th>\n",
       "      <th></th>\n",
       "    </tr>\n",
       "  </thead>\n",
       "  <tbody>\n",
       "    <tr>\n",
       "      <th>2013-01-01 05:00:00+00:00</th>\n",
       "      <td>4.0</td>\n",
       "      <td>26.0</td>\n",
       "      <td>102.0</td>\n",
       "      <td>622.0</td>\n",
       "      <td>21.2</td>\n",
       "      <td>45.9</td>\n",
       "      <td>5</td>\n",
       "      <td>1</td>\n",
       "      <td>1</td>\n",
       "      <td>1</td>\n",
       "      <td>2013</td>\n",
       "      <td>1</td>\n",
       "      <td>0</td>\n",
       "    </tr>\n",
       "    <tr>\n",
       "      <th>2013-01-01 04:00:00+00:00</th>\n",
       "      <td>3.0</td>\n",
       "      <td>25.0</td>\n",
       "      <td>85.0</td>\n",
       "      <td>715.0</td>\n",
       "      <td>21.6</td>\n",
       "      <td>45.8</td>\n",
       "      <td>4</td>\n",
       "      <td>1</td>\n",
       "      <td>1</td>\n",
       "      <td>1</td>\n",
       "      <td>2013</td>\n",
       "      <td>1</td>\n",
       "      <td>0</td>\n",
       "    </tr>\n",
       "    <tr>\n",
       "      <th>2013-01-01 03:00:00+00:00</th>\n",
       "      <td>4.0</td>\n",
       "      <td>27.0</td>\n",
       "      <td>124.0</td>\n",
       "      <td>799.0</td>\n",
       "      <td>21.8</td>\n",
       "      <td>47.0</td>\n",
       "      <td>3</td>\n",
       "      <td>1</td>\n",
       "      <td>1</td>\n",
       "      <td>1</td>\n",
       "      <td>2013</td>\n",
       "      <td>1</td>\n",
       "      <td>0</td>\n",
       "    </tr>\n",
       "    <tr>\n",
       "      <th>2013-01-01 02:00:00+00:00</th>\n",
       "      <td>6.0</td>\n",
       "      <td>30.0</td>\n",
       "      <td>166.0</td>\n",
       "      <td>800.0</td>\n",
       "      <td>21.6</td>\n",
       "      <td>47.3</td>\n",
       "      <td>2</td>\n",
       "      <td>1</td>\n",
       "      <td>1</td>\n",
       "      <td>1</td>\n",
       "      <td>2013</td>\n",
       "      <td>1</td>\n",
       "      <td>0</td>\n",
       "    </tr>\n",
       "    <tr>\n",
       "      <th>2013-01-01 01:00:00+00:00</th>\n",
       "      <td>6.0</td>\n",
       "      <td>31.0</td>\n",
       "      <td>182.0</td>\n",
       "      <td>776.0</td>\n",
       "      <td>21.5</td>\n",
       "      <td>46.2</td>\n",
       "      <td>1</td>\n",
       "      <td>1</td>\n",
       "      <td>1</td>\n",
       "      <td>1</td>\n",
       "      <td>2013</td>\n",
       "      <td>1</td>\n",
       "      <td>0</td>\n",
       "    </tr>\n",
       "  </tbody>\n",
       "</table>\n",
       "</div>"
      ],
      "text/plain": [
       "                            NO   NO2   PM10    CO2  TEMP  HUMI  HOUR  MONTH  \\\n",
       "DATE                                                                          \n",
       "2013-01-01 05:00:00+00:00  4.0  26.0  102.0  622.0  21.2  45.9     5      1   \n",
       "2013-01-01 04:00:00+00:00  3.0  25.0   85.0  715.0  21.6  45.8     4      1   \n",
       "2013-01-01 03:00:00+00:00  4.0  27.0  124.0  799.0  21.8  47.0     3      1   \n",
       "2013-01-01 02:00:00+00:00  6.0  30.0  166.0  800.0  21.6  47.3     2      1   \n",
       "2013-01-01 01:00:00+00:00  6.0  31.0  182.0  776.0  21.5  46.2     1      1   \n",
       "\n",
       "                           WEEK_OF_YEAR  DAY  YEAR  WEEKDAY  WEEKEND  \n",
       "DATE                                                                  \n",
       "2013-01-01 05:00:00+00:00             1    1  2013        1        0  \n",
       "2013-01-01 04:00:00+00:00             1    1  2013        1        0  \n",
       "2013-01-01 03:00:00+00:00             1    1  2013        1        0  \n",
       "2013-01-01 02:00:00+00:00             1    1  2013        1        0  \n",
       "2013-01-01 01:00:00+00:00             1    1  2013        1        0  "
      ]
     },
     "execution_count": 194,
     "metadata": {},
     "output_type": "execute_result"
    }
   ],
   "source": [
    "cleaned_data['HOUR'] = cleaned_data.index.hour\n",
    "cleaned_data['MONTH'] = cleaned_data.index.month\n",
    "cleaned_data['WEEK_OF_YEAR'] = cleaned_data.index.weekofyear\n",
    "cleaned_data['DAY'] = cleaned_data.index.day\n",
    "cleaned_data['YEAR'] = cleaned_data.index.year\n",
    "cleaned_data['WEEKDAY'] = cleaned_data.index.weekday\n",
    "cleaned_data['WEEKEND']=np.where(cleaned_data.index.weekday > 5, 1, 0)\n",
    "cleaned_data.tail()"
   ]
  },
  {
   "cell_type": "code",
   "execution_count": 195,
   "metadata": {},
   "outputs": [],
   "source": [
    "cleaned_data = cleaned_data.iloc[::-1]"
   ]
  },
  {
   "cell_type": "code",
   "execution_count": 196,
   "metadata": {},
   "outputs": [
    {
     "data": {
      "text/html": [
       "<div>\n",
       "<style scoped>\n",
       "    .dataframe tbody tr th:only-of-type {\n",
       "        vertical-align: middle;\n",
       "    }\n",
       "\n",
       "    .dataframe tbody tr th {\n",
       "        vertical-align: top;\n",
       "    }\n",
       "\n",
       "    .dataframe thead th {\n",
       "        text-align: right;\n",
       "    }\n",
       "</style>\n",
       "<table border=\"1\" class=\"dataframe\">\n",
       "  <thead>\n",
       "    <tr style=\"text-align: right;\">\n",
       "      <th></th>\n",
       "      <th>NO</th>\n",
       "      <th>NO2</th>\n",
       "      <th>PM10</th>\n",
       "      <th>CO2</th>\n",
       "      <th>TEMP</th>\n",
       "      <th>HUMI</th>\n",
       "      <th>HOUR</th>\n",
       "      <th>MONTH</th>\n",
       "      <th>WEEK_OF_YEAR</th>\n",
       "      <th>DAY</th>\n",
       "      <th>YEAR</th>\n",
       "      <th>WEEKDAY</th>\n",
       "      <th>WEEKEND</th>\n",
       "    </tr>\n",
       "    <tr>\n",
       "      <th>DATE</th>\n",
       "      <th></th>\n",
       "      <th></th>\n",
       "      <th></th>\n",
       "      <th></th>\n",
       "      <th></th>\n",
       "      <th></th>\n",
       "      <th></th>\n",
       "      <th></th>\n",
       "      <th></th>\n",
       "      <th></th>\n",
       "      <th></th>\n",
       "      <th></th>\n",
       "      <th></th>\n",
       "    </tr>\n",
       "  </thead>\n",
       "  <tbody>\n",
       "    <tr>\n",
       "      <th>2022-09-28 21:00:00+00:00</th>\n",
       "      <td>2.0</td>\n",
       "      <td>18.0</td>\n",
       "      <td>36.0</td>\n",
       "      <td>571.0</td>\n",
       "      <td>18.2</td>\n",
       "      <td>43.5</td>\n",
       "      <td>21</td>\n",
       "      <td>9</td>\n",
       "      <td>39</td>\n",
       "      <td>28</td>\n",
       "      <td>2022</td>\n",
       "      <td>2</td>\n",
       "      <td>0</td>\n",
       "    </tr>\n",
       "    <tr>\n",
       "      <th>2022-09-28 22:00:00+00:00</th>\n",
       "      <td>4.0</td>\n",
       "      <td>28.0</td>\n",
       "      <td>39.0</td>\n",
       "      <td>526.0</td>\n",
       "      <td>18.1</td>\n",
       "      <td>46.8</td>\n",
       "      <td>22</td>\n",
       "      <td>9</td>\n",
       "      <td>39</td>\n",
       "      <td>28</td>\n",
       "      <td>2022</td>\n",
       "      <td>2</td>\n",
       "      <td>0</td>\n",
       "    </tr>\n",
       "    <tr>\n",
       "      <th>2022-09-28 23:00:00+00:00</th>\n",
       "      <td>6.0</td>\n",
       "      <td>32.0</td>\n",
       "      <td>36.0</td>\n",
       "      <td>491.0</td>\n",
       "      <td>18.0</td>\n",
       "      <td>49.3</td>\n",
       "      <td>23</td>\n",
       "      <td>9</td>\n",
       "      <td>39</td>\n",
       "      <td>28</td>\n",
       "      <td>2022</td>\n",
       "      <td>2</td>\n",
       "      <td>0</td>\n",
       "    </tr>\n",
       "    <tr>\n",
       "      <th>2022-09-29 00:00:00+00:00</th>\n",
       "      <td>3.0</td>\n",
       "      <td>23.0</td>\n",
       "      <td>11.0</td>\n",
       "      <td>450.0</td>\n",
       "      <td>17.8</td>\n",
       "      <td>50.0</td>\n",
       "      <td>0</td>\n",
       "      <td>9</td>\n",
       "      <td>39</td>\n",
       "      <td>29</td>\n",
       "      <td>2022</td>\n",
       "      <td>3</td>\n",
       "      <td>0</td>\n",
       "    </tr>\n",
       "    <tr>\n",
       "      <th>2022-09-29 01:00:00+00:00</th>\n",
       "      <td>5.0</td>\n",
       "      <td>7.0</td>\n",
       "      <td>20.0</td>\n",
       "      <td>444.0</td>\n",
       "      <td>18.8</td>\n",
       "      <td>47.6</td>\n",
       "      <td>1</td>\n",
       "      <td>9</td>\n",
       "      <td>39</td>\n",
       "      <td>29</td>\n",
       "      <td>2022</td>\n",
       "      <td>3</td>\n",
       "      <td>0</td>\n",
       "    </tr>\n",
       "  </tbody>\n",
       "</table>\n",
       "</div>"
      ],
      "text/plain": [
       "                            NO   NO2  PM10    CO2  TEMP  HUMI  HOUR  MONTH  \\\n",
       "DATE                                                                         \n",
       "2022-09-28 21:00:00+00:00  2.0  18.0  36.0  571.0  18.2  43.5    21      9   \n",
       "2022-09-28 22:00:00+00:00  4.0  28.0  39.0  526.0  18.1  46.8    22      9   \n",
       "2022-09-28 23:00:00+00:00  6.0  32.0  36.0  491.0  18.0  49.3    23      9   \n",
       "2022-09-29 00:00:00+00:00  3.0  23.0  11.0  450.0  17.8  50.0     0      9   \n",
       "2022-09-29 01:00:00+00:00  5.0   7.0  20.0  444.0  18.8  47.6     1      9   \n",
       "\n",
       "                           WEEK_OF_YEAR  DAY  YEAR  WEEKDAY  WEEKEND  \n",
       "DATE                                                                  \n",
       "2022-09-28 21:00:00+00:00            39   28  2022        2        0  \n",
       "2022-09-28 22:00:00+00:00            39   28  2022        2        0  \n",
       "2022-09-28 23:00:00+00:00            39   28  2022        2        0  \n",
       "2022-09-29 00:00:00+00:00            39   29  2022        3        0  \n",
       "2022-09-29 01:00:00+00:00            39   29  2022        3        0  "
      ]
     },
     "execution_count": 196,
     "metadata": {},
     "output_type": "execute_result"
    }
   ],
   "source": [
    "cleaned_data.tail()"
   ]
  },
  {
   "cell_type": "code",
   "execution_count": 197,
   "metadata": {},
   "outputs": [],
   "source": [
    "# cleaned_data['CO2_QUANT'] = pd.qcut(cleaned_data['CO2'], 4, labels=False)"
   ]
  },
  {
   "cell_type": "code",
   "execution_count": 198,
   "metadata": {},
   "outputs": [
    {
     "name": "stderr",
     "output_type": "stream",
     "text": [
      "/tmp/ipykernel_5696/504106274.py:1: SettingWithCopyWarning: \n",
      "A value is trying to be set on a copy of a slice from a DataFrame.\n",
      "Try using .loc[row_indexer,col_indexer] = value instead\n",
      "\n",
      "See the caveats in the documentation: https://pandas.pydata.org/pandas-docs/stable/user_guide/indexing.html#returning-a-view-versus-a-copy\n",
      "  cleaned_data['CO2_BEFORE'] = cleaned_data.groupby([cleaned_data.index.month,cleaned_data.index.day, cleaned_data.index.hour])['CO2'].shift()\n",
      "/tmp/ipykernel_5696/504106274.py:5: SettingWithCopyWarning: \n",
      "A value is trying to be set on a copy of a slice from a DataFrame.\n",
      "Try using .loc[row_indexer,col_indexer] = value instead\n",
      "\n",
      "See the caveats in the documentation: https://pandas.pydata.org/pandas-docs/stable/user_guide/indexing.html#returning-a-view-versus-a-copy\n",
      "  cleaned_data['CO2_BEFORE'] = cleaned_data['CO2_BEFORE'].apply(lambda x: cleaned_data.groupby([cleaned_data.index.month,cleaned_data.index.day, cleaned_data.index.hour])['CO2'].shift() if x == np.nan else x)\n"
     ]
    }
   ],
   "source": [
    "cleaned_data['CO2_BEFORE'] = cleaned_data.groupby([cleaned_data.index.month,cleaned_data.index.day, cleaned_data.index.hour])['CO2'].shift()\n",
    "# cleaned_data['CO2_BEFORE_QUANT'] = cleaned_data.groupby([cleaned_data.index.month,cleaned_data.index.day, cleaned_data.index.hour])['CO2_QUANT'].shift()\n",
    "\n",
    "# repeat if np.nan -> take the value from 2 years before in order to keep more datapoints\n",
    "cleaned_data['CO2_BEFORE'] = cleaned_data['CO2_BEFORE'].apply(lambda x: cleaned_data.groupby([cleaned_data.index.month,cleaned_data.index.day, cleaned_data.index.hour])['CO2'].shift() if x == np.nan else x)\n",
    "# cleaned_data['CO2_BEFORE_QUANT'] = cleaned_data['CO2_BEFORE_QUANT'].apply(lambda x: cleaned_data.groupby([cleaned_data.index.month,cleaned_data.index.day, cleaned_data.index.hour])['CO2_QUANt'].shift() if x == np.nan else x)"
   ]
  },
  {
   "cell_type": "code",
   "execution_count": 199,
   "metadata": {},
   "outputs": [
    {
     "name": "stderr",
     "output_type": "stream",
     "text": [
      "/tmp/ipykernel_5696/3190821828.py:1: SettingWithCopyWarning: \n",
      "A value is trying to be set on a copy of a slice from a DataFrame.\n",
      "Try using .loc[row_indexer,col_indexer] = value instead\n",
      "\n",
      "See the caveats in the documentation: https://pandas.pydata.org/pandas-docs/stable/user_guide/indexing.html#returning-a-view-versus-a-copy\n",
      "  cleaned_data['NO_BEFORE'] = cleaned_data.groupby([cleaned_data.index.month,cleaned_data.index.day, cleaned_data.index.hour])['NO'].shift()\n",
      "/tmp/ipykernel_5696/3190821828.py:2: SettingWithCopyWarning: \n",
      "A value is trying to be set on a copy of a slice from a DataFrame.\n",
      "Try using .loc[row_indexer,col_indexer] = value instead\n",
      "\n",
      "See the caveats in the documentation: https://pandas.pydata.org/pandas-docs/stable/user_guide/indexing.html#returning-a-view-versus-a-copy\n",
      "  cleaned_data['NO_BEFORE'] = cleaned_data['NO_BEFORE'].apply(lambda x: cleaned_data.groupby([cleaned_data.index.month,cleaned_data.index.day, cleaned_data.index.hour])['NO'].shift() if x == np.nan else x)\n",
      "/tmp/ipykernel_5696/3190821828.py:4: SettingWithCopyWarning: \n",
      "A value is trying to be set on a copy of a slice from a DataFrame.\n",
      "Try using .loc[row_indexer,col_indexer] = value instead\n",
      "\n",
      "See the caveats in the documentation: https://pandas.pydata.org/pandas-docs/stable/user_guide/indexing.html#returning-a-view-versus-a-copy\n",
      "  cleaned_data['NO2_BEFORE'] = cleaned_data.groupby([cleaned_data.index.month,cleaned_data.index.day, cleaned_data.index.hour])['NO2'].shift()\n",
      "/tmp/ipykernel_5696/3190821828.py:5: SettingWithCopyWarning: \n",
      "A value is trying to be set on a copy of a slice from a DataFrame.\n",
      "Try using .loc[row_indexer,col_indexer] = value instead\n",
      "\n",
      "See the caveats in the documentation: https://pandas.pydata.org/pandas-docs/stable/user_guide/indexing.html#returning-a-view-versus-a-copy\n",
      "  cleaned_data['NO2_BEFORE'] = cleaned_data['NO2_BEFORE'].apply(lambda x: cleaned_data.groupby([cleaned_data.index.month,cleaned_data.index.day, cleaned_data.index.hour])['NO2'].shift() if x == np.nan else x)\n",
      "/tmp/ipykernel_5696/3190821828.py:7: SettingWithCopyWarning: \n",
      "A value is trying to be set on a copy of a slice from a DataFrame.\n",
      "Try using .loc[row_indexer,col_indexer] = value instead\n",
      "\n",
      "See the caveats in the documentation: https://pandas.pydata.org/pandas-docs/stable/user_guide/indexing.html#returning-a-view-versus-a-copy\n",
      "  cleaned_data['PM10_BEFORE'] = cleaned_data.groupby([cleaned_data.index.month,cleaned_data.index.day, cleaned_data.index.hour])['PM10'].shift()\n",
      "/tmp/ipykernel_5696/3190821828.py:8: SettingWithCopyWarning: \n",
      "A value is trying to be set on a copy of a slice from a DataFrame.\n",
      "Try using .loc[row_indexer,col_indexer] = value instead\n",
      "\n",
      "See the caveats in the documentation: https://pandas.pydata.org/pandas-docs/stable/user_guide/indexing.html#returning-a-view-versus-a-copy\n",
      "  cleaned_data['PM10_BEFORE'] = cleaned_data['PM10_BEFORE'].apply(lambda x: cleaned_data.groupby([cleaned_data.index.month,cleaned_data.index.day, cleaned_data.index.hour])['PM10'].shift() if x == np.nan else x)\n"
     ]
    }
   ],
   "source": [
    "cleaned_data['NO_BEFORE'] = cleaned_data.groupby([cleaned_data.index.month,cleaned_data.index.day, cleaned_data.index.hour])['NO'].shift()\n",
    "cleaned_data['NO_BEFORE'] = cleaned_data['NO_BEFORE'].apply(lambda x: cleaned_data.groupby([cleaned_data.index.month,cleaned_data.index.day, cleaned_data.index.hour])['NO'].shift() if x == np.nan else x)\n",
    "\n",
    "cleaned_data['NO2_BEFORE'] = cleaned_data.groupby([cleaned_data.index.month,cleaned_data.index.day, cleaned_data.index.hour])['NO2'].shift()\n",
    "cleaned_data['NO2_BEFORE'] = cleaned_data['NO2_BEFORE'].apply(lambda x: cleaned_data.groupby([cleaned_data.index.month,cleaned_data.index.day, cleaned_data.index.hour])['NO2'].shift() if x == np.nan else x)\n",
    "\n",
    "cleaned_data['PM10_BEFORE'] = cleaned_data.groupby([cleaned_data.index.month,cleaned_data.index.day, cleaned_data.index.hour])['PM10'].shift()\n",
    "cleaned_data['PM10_BEFORE'] = cleaned_data['PM10_BEFORE'].apply(lambda x: cleaned_data.groupby([cleaned_data.index.month,cleaned_data.index.day, cleaned_data.index.hour])['PM10'].shift() if x == np.nan else x)"
   ]
  },
  {
   "cell_type": "code",
   "execution_count": 200,
   "metadata": {},
   "outputs": [],
   "source": [
    "# this will cost us a lot of data (64698 -> 38370), but include a column for last years value\n",
    "# to be determined if this method is feasible\n",
    "# note: fixed by repeating .shift() for np.nan values\n",
    "cleaned_data = cleaned_data.dropna()"
   ]
  },
  {
   "cell_type": "code",
   "execution_count": 210,
   "metadata": {},
   "outputs": [],
   "source": [
    "year_one_hot = pd.get_dummies(cleaned_data.YEAR, prefix='YEAR')\n",
    "month_one_hot = pd.get_dummies(cleaned_data.MONTH, prefix='MONTH')\n",
    "day_one_hot = pd.get_dummies(cleaned_data.DAY, prefix='DAY')\n",
    "week_day_one_hot = pd.get_dummies(cleaned_data.WEEKDAY, prefix='WEEKDAY')\n",
    "hour_one_hot = pd.get_dummies(cleaned_data.HOUR, prefix='HOUR')\n",
    "cleaned_data = cleaned_data.join(year_one_hot)\n",
    "cleaned_data = cleaned_data.join(month_one_hot)\n",
    "cleaned_data = cleaned_data.join(day_one_hot)\n",
    "cleaned_data = cleaned_data.join(week_day_one_hot)\n",
    "cleaned_data = cleaned_data.join(hour_one_hot)"
   ]
  },
  {
   "cell_type": "code",
   "execution_count": 212,
   "metadata": {},
   "outputs": [],
   "source": [
    "cleaned_data = cleaned_data.drop(columns=['YEAR','MONTH', 'DAY', 'WEEKDAY','HOUR'])"
   ]
  },
  {
   "cell_type": "code",
   "execution_count": 213,
   "metadata": {},
   "outputs": [
    {
     "data": {
      "text/html": [
       "<div>\n",
       "<style scoped>\n",
       "    .dataframe tbody tr th:only-of-type {\n",
       "        vertical-align: middle;\n",
       "    }\n",
       "\n",
       "    .dataframe tbody tr th {\n",
       "        vertical-align: top;\n",
       "    }\n",
       "\n",
       "    .dataframe thead th {\n",
       "        text-align: right;\n",
       "    }\n",
       "</style>\n",
       "<table border=\"1\" class=\"dataframe\">\n",
       "  <thead>\n",
       "    <tr style=\"text-align: right;\">\n",
       "      <th></th>\n",
       "      <th>CO2</th>\n",
       "      <th>CO2_BEFORE</th>\n",
       "    </tr>\n",
       "  </thead>\n",
       "  <tbody>\n",
       "    <tr>\n",
       "      <th>count</th>\n",
       "      <td>55976.000000</td>\n",
       "      <td>55976.000000</td>\n",
       "    </tr>\n",
       "    <tr>\n",
       "      <th>mean</th>\n",
       "      <td>562.170109</td>\n",
       "      <td>572.825532</td>\n",
       "    </tr>\n",
       "    <tr>\n",
       "      <th>std</th>\n",
       "      <td>123.380925</td>\n",
       "      <td>131.218740</td>\n",
       "    </tr>\n",
       "    <tr>\n",
       "      <th>min</th>\n",
       "      <td>383.000000</td>\n",
       "      <td>383.000000</td>\n",
       "    </tr>\n",
       "    <tr>\n",
       "      <th>25%</th>\n",
       "      <td>462.000000</td>\n",
       "      <td>465.000000</td>\n",
       "    </tr>\n",
       "    <tr>\n",
       "      <th>50%</th>\n",
       "      <td>538.000000</td>\n",
       "      <td>548.000000</td>\n",
       "    </tr>\n",
       "    <tr>\n",
       "      <th>75%</th>\n",
       "      <td>630.000000</td>\n",
       "      <td>649.000000</td>\n",
       "    </tr>\n",
       "    <tr>\n",
       "      <th>max</th>\n",
       "      <td>2321.000000</td>\n",
       "      <td>2321.000000</td>\n",
       "    </tr>\n",
       "  </tbody>\n",
       "</table>\n",
       "</div>"
      ],
      "text/plain": [
       "                CO2    CO2_BEFORE\n",
       "count  55976.000000  55976.000000\n",
       "mean     562.170109    572.825532\n",
       "std      123.380925    131.218740\n",
       "min      383.000000    383.000000\n",
       "25%      462.000000    465.000000\n",
       "50%      538.000000    548.000000\n",
       "75%      630.000000    649.000000\n",
       "max     2321.000000   2321.000000"
      ]
     },
     "execution_count": 213,
     "metadata": {},
     "output_type": "execute_result"
    }
   ],
   "source": [
    "cleaned_data[['CO2', 'CO2_BEFORE']].describe()"
   ]
  },
  {
   "cell_type": "code",
   "execution_count": 203,
   "metadata": {},
   "outputs": [],
   "source": [
    "# cleaned_data['CO2_QUANT'] = pd.qcut(cleaned_data['CO2'], 4, labels=False)\n",
    "# cleaned_data['CO2_BEFORE_QUANT'] = pd.qcut(cleaned_data['CO2_BEFORE'], 4, labels=False)\n",
    "# cleaned_data"
   ]
  },
  {
   "cell_type": "code",
   "execution_count": 216,
   "metadata": {},
   "outputs": [
    {
     "data": {
      "text/plain": [
       "DATE\n",
       "2014-01-01 01:00:00+00:00    4.0\n",
       "2014-01-01 02:00:00+00:00    4.0\n",
       "2014-01-01 03:00:00+00:00    4.0\n",
       "2014-01-01 04:00:00+00:00    4.0\n",
       "2014-01-01 05:00:00+00:00    4.0\n",
       "                            ... \n",
       "2022-09-28 21:00:00+00:00    2.0\n",
       "2022-09-28 22:00:00+00:00    4.0\n",
       "2022-09-28 23:00:00+00:00    6.0\n",
       "2022-09-29 00:00:00+00:00    3.0\n",
       "2022-09-29 01:00:00+00:00    5.0\n",
       "Name: NO, Length: 55976, dtype: float64"
      ]
     },
     "execution_count": 216,
     "metadata": {},
     "output_type": "execute_result"
    }
   ],
   "source": [
    "cleaned_data.NO"
   ]
  },
  {
   "cell_type": "code",
   "execution_count": 214,
   "metadata": {},
   "outputs": [
    {
     "name": "stdout",
     "output_type": "stream",
     "text": [
      "Your selected stage_train_dataframe has 95 columns.\n",
      "There are 0 columns that have missing values.\n"
     ]
    },
    {
     "data": {
      "text/html": [
       "<div>\n",
       "<style scoped>\n",
       "    .dataframe tbody tr th:only-of-type {\n",
       "        vertical-align: middle;\n",
       "    }\n",
       "\n",
       "    .dataframe tbody tr th {\n",
       "        vertical-align: top;\n",
       "    }\n",
       "\n",
       "    .dataframe thead th {\n",
       "        text-align: right;\n",
       "    }\n",
       "</style>\n",
       "<table border=\"1\" class=\"dataframe\">\n",
       "  <thead>\n",
       "    <tr style=\"text-align: right;\">\n",
       "      <th></th>\n",
       "      <th>Missing Values</th>\n",
       "      <th>% of Total Values</th>\n",
       "    </tr>\n",
       "  </thead>\n",
       "  <tbody>\n",
       "  </tbody>\n",
       "</table>\n",
       "</div>"
      ],
      "text/plain": [
       "Empty DataFrame\n",
       "Columns: [Missing Values, % of Total Values]\n",
       "Index: []"
      ]
     },
     "execution_count": 214,
     "metadata": {},
     "output_type": "execute_result"
    }
   ],
   "source": [
    "missing_values_table(cleaned_data)"
   ]
  },
  {
   "cell_type": "code",
   "execution_count": 215,
   "metadata": {},
   "outputs": [],
   "source": [
    "cleaned_data.to_csv('cleaned_chatelet.csv')"
   ]
  }
 ],
 "metadata": {
  "kernelspec": {
   "display_name": "Python 3.8.0 64-bit ('3.8.0')",
   "language": "python",
   "name": "python3"
  },
  "language_info": {
   "codemirror_mode": {
    "name": "ipython",
    "version": 3
   },
   "file_extension": ".py",
   "mimetype": "text/x-python",
   "name": "python",
   "nbconvert_exporter": "python",
   "pygments_lexer": "ipython3",
   "version": "3.8.0"
  },
  "orig_nbformat": 4,
  "vscode": {
   "interpreter": {
    "hash": "7f98614839827e241d8769e77beb87964b7d51ca2f59aa0f2ff5b3c5a548d61a"
   }
  }
 },
 "nbformat": 4,
 "nbformat_minor": 2
}
